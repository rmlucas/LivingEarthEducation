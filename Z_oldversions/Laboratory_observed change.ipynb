{
 "cells": [
  {
   "cell_type": "markdown",
   "id": "1faf5f42-ffb4-47cb-adae-a0c03134ad33",
   "metadata": {},
   "source": [
    "# *Living Earth* Observed change\n",
    "# Mapping conversions and modifications of land cover\n",
    "<img align=\"right\" src=\"../../Supplementary_data/dea_logo.jpg\">\n",
    "\n",
    "* **[Sign up to the DEA Sandbox](https://app.sandbox.dea.ga.gov.au/)** to run this notebook interactively from a browser\n",
    "* **Compatibility:** Notebook currently compatible with `DEA Sandbox` environment\n",
    "* **Products used:** \n",
    "[ga_s2am_ard_3](https://explorer.dea.ga.gov.au/products/ga_s2am_ard_3)\n"
   ]
  },
  {
   "cell_type": "markdown",
   "id": "ce34ad61-c255-42e0-95eb-8d5c4db089f2",
   "metadata": {},
   "source": [
    "## Overview of observed changes"
   ]
  },
  {
   "cell_type": "markdown",
   "id": "452d7107-02b5-4236-adfe-00a12f020b2a",
   "metadata": {},
   "source": [
    "**Land Cover** is the physical and biological cover of the land surface and includes vegetation (managed or semi-natural), water and bare surfaces.  The land cover maps generated through Living Land Management use the legends of the United Nation's Food and Agriculture Organisation (FAO) Land Cover Classification System (LCCS).\n",
    "\n",
    "Transitions between any two Level 3 land cover types (off-diagonals in a transition matrix) correspond to a change in extent in both the original class at the time of the first observation (T1) and the replacement class in the second observation (T2) (i.e., a land cover **conversion**). More detailed descriptions of the land cover class prior to and following the change can be provided by referencing the categorical and continuous environmental descriptors used in the construction of the FAO LCCS classes at T1 and T2 respectively as well as AEDs. \n",
    "\n",
    "Where the Level 3 class remains the same between time-separated periods (the on-diagonals in the transition matrix), a modification rather than conversion of the land cover occurs and only changes in the amounts or type of state indictors within the Level 3 class can take place. These changes can only be described by considering variations (decreases, increases or no difference) in what are termed Essential Environmental Descriptors (EEDs) that are required to construct the FAO LCCS or Additional Environmental Descriptors (AEDs) that are not required but provide additional descriptors.  These descriptors can be units of measurements (or categorizations of these; e.g. canopy cover in %) or simply a change in a pre-defined category (e.g., representing lifeform or leaf type).\n",
    "\n"
   ]
  },
  {
   "cell_type": "markdown",
   "id": "4331b468-fbc5-4b09-8478-78df574cb743",
   "metadata": {},
   "source": [
    "## Description \n",
    "\n",
    "Through Geoscience Australia's (GA) Digital Earth Australia (DEA) Land Cover, land cover maps have been generated for 34 years (1988 to 2020) from environmental descriptors retreived or classified entirely from Landsat sensor data and according to the Food and Agriculture Organisation (FAO) Land Cover Classification System (Version 2).  The spatial resolution of the mapping is 25 m \n",
    "(see DEA Land Cover) at https://cmi.ga.gov.au/data-products/dea/607/dea-land-cover-landsat)\n",
    "\n",
    "For a selected area of interest, the notebook compares land cover data for any two years and generates maps of conversions (changes in extent) or modifications (no changes in extent but a change in type (e.g. lifeform) or condition of land covers).\n",
    "\n",
    "1. Loading and displaying DEA land cover classifications (basic and detailed) and contributing environmental descriptors for an area of interest.\n",
    "2. Determing areas of land cover conversions (losses and gains) based on time-series comparison of the land cover maps between two years.\n",
    "3. Determining areas of no change in the FAO LCCS Level 3 classes where there is potential for a modification to occur. \n",
    "\n",
    "This notebook requires a basic understanding of the DEA Land Cover data set. \n",
    "If you are new to DEA Land Cover, it is recommended you look at the introductory [DEA Land Cover notebook](../DEA_datasets/DEA_Land_Cover.ipynb) first. \n",
    "\n",
    "This notebook requires a basic understanding of the DEA Land Cover data set. \n",
    "If you are new to DEA Land Cover, it is recommended you look at the introductory [DEA Land Cover notebook](../DEA_datasets/DEA_Land_Cover.ipynb) first. \n",
    "\n",
    "***"
   ]
  },
  {
   "cell_type": "markdown",
   "id": "45a61d5c-3ec6-4e3f-a68e-bf2e1c2fccc7",
   "metadata": {},
   "source": [
    "## Getting started\n",
    "\n",
    "To run this analysis, run all the cells in the notebook starting with the 'Load packages and connect to the datacube' cell."
   ]
  },
  {
   "cell_type": "code",
   "execution_count": 1,
   "id": "e962815a-b419-4349-ac8d-43027a409d69",
   "metadata": {
    "tags": []
   },
   "outputs": [],
   "source": [
    "# Initial imports and setup\n",
    "import sys\n",
    "import os, re\n",
    "import matplotlib.pyplot as plt\n",
    "from matplotlib import colors as mcolours\n",
    "\n",
    "import xarray as xr\n",
    "import numpy as np\n",
    "\n",
    "import odc.stac\n",
    "import pystac_client\n",
    "from odc.geo import BoundingBox\n",
    "from odc.geo.cog import write_cog\n",
    "from odc.geo.xr import assign_crs\n",
    "\n",
    "from dea_tools.plotting import display_map\n",
    "from dea_tools.landcover import lc_colourmap, make_colourbar, plot_land_cover"
   ]
  },
  {
   "cell_type": "markdown",
   "id": "2f8dfa5f-85d8-4f91-93bc-f7b2c0520e3d",
   "metadata": {},
   "source": [
    "### Load packages\n",
    "\n",
    "Load key Python packages and supporting functions for the analysis, then connect to the datacube. "
   ]
  },
  {
   "cell_type": "markdown",
   "id": "bc3fd3a8-d54e-4b09-ad65-4d703ad1f3a8",
   "metadata": {},
   "source": [
    "### Connect to the datacube\n",
    "Connect to the datacube so we can access DEA data. "
   ]
  },
  {
   "cell_type": "code",
   "execution_count": 2,
   "id": "76f9806d-cce9-44a0-a6e2-c1b0698a411c",
   "metadata": {},
   "outputs": [],
   "source": [
    "# Configure data access\n",
    "odc.stac.configure_s3_access(cloud_defaults=True, aws_unsigned=True)\n",
    "\n",
    "# Connect to STAC API\n",
    "catalog = pystac_client.Client.open(\"https://explorer.dea.ga.gov.au/stac\")"
   ]
  },
  {
   "cell_type": "markdown",
   "id": "b326f586-afc8-4927-b2fc-9affe30f24b5",
   "metadata": {},
   "source": [
    "## Select and view your study area\n",
    "\n",
    "**If running the notebook for the first time,** keep the default settings below.\n",
    "This will demonstrate how the change mapping functionality works and provide meaningful results.\n",
    "The following example loads land cover data over Mount Ney in Western Australia, a region which has experienced extensive bushfires and variations in water inundation over the 34 years of observation.  \n",
    "\n",
    "**NOTE:  You can change the area of interest and also the time range in subsequent user-selected runs of the notebook."
   ]
  },
  {
   "cell_type": "code",
   "execution_count": 3,
   "id": "141c4a52-0c92-4e57-b779-26e61cda6779",
   "metadata": {
    "tags": []
   },
   "outputs": [],
   "source": [
    "product='ga_ls_landcover_class_cyear_3'\n",
    "\n",
    "# Set the range of dates for the analysis\n",
    "time_range = (\"1988\", \"2024\")\n",
    "\n",
    "# Coordinates for Broome, Western Australia\n",
    "#central_lat = -18.10\n",
    "#central_lon = 122.32\n",
    "\n",
    "# Sydney, New South Wales, Australia\n",
    "central_lat = -33.9\n",
    "central_lon = 151.24\n",
    "\n",
    "buffer = 0.2\n",
    "resolution=30\n",
    "crs='EPSG:3577'"
   ]
  },
  {
   "cell_type": "code",
   "execution_count": 4,
   "id": "9339408d-f071-456a-bfd3-5edbbb3c36a4",
   "metadata": {
    "tags": []
   },
   "outputs": [
    {
     "name": "stdout",
     "output_type": "stream",
     "text": [
      "Found: 74 datasets\n"
     ]
    }
   ],
   "source": [
    "#set up a bounding box for our stac query \n",
    "bbox = BoundingBox(\n",
    "    left=central_lon - buffer,\n",
    "    bottom=central_lat - buffer,\n",
    "    right=central_lon + buffer,\n",
    "    top=central_lat + buffer,\n",
    "    crs=crs\n",
    ")\n",
    "bbox_query = bbox.bbox\n",
    "\n",
    "# Search the catalog for matching S2 data\n",
    "query = catalog.search(\n",
    "    bbox=bbox_query,\n",
    "    collections=[product],\n",
    "    datetime=time_range\n",
    "    )\n",
    "\n",
    "items = list(query.items()) #convert to list\n",
    "print(f\"Found: {len(items):d} datasets\")"
   ]
  },
  {
   "cell_type": "code",
   "execution_count": 5,
   "id": "c1278da8-dd8f-46b1-b035-84058dd7ceea",
   "metadata": {
    "tags": []
   },
   "outputs": [
    {
     "data": {
      "text/html": [
       "<div style=\"width:100%;\"><div style=\"position:relative;width:100%;height:0;padding-bottom:60%;\"><span style=\"color:#565656\">Make this Notebook Trusted to load map: File -> Trust Notebook</span><iframe srcdoc=\"&lt;!DOCTYPE html&gt;\n",
       "&lt;html&gt;\n",
       "&lt;head&gt;\n",
       "    \n",
       "    &lt;meta http-equiv=&quot;content-type&quot; content=&quot;text/html; charset=UTF-8&quot; /&gt;\n",
       "    &lt;script src=&quot;https://cdn.jsdelivr.net/npm/leaflet@1.9.3/dist/leaflet.js&quot;&gt;&lt;/script&gt;\n",
       "    &lt;script src=&quot;https://code.jquery.com/jquery-3.7.1.min.js&quot;&gt;&lt;/script&gt;\n",
       "    &lt;script src=&quot;https://cdn.jsdelivr.net/npm/bootstrap@5.2.2/dist/js/bootstrap.bundle.min.js&quot;&gt;&lt;/script&gt;\n",
       "    &lt;script src=&quot;https://cdnjs.cloudflare.com/ajax/libs/Leaflet.awesome-markers/2.0.2/leaflet.awesome-markers.js&quot;&gt;&lt;/script&gt;\n",
       "    &lt;link rel=&quot;stylesheet&quot; href=&quot;https://cdn.jsdelivr.net/npm/leaflet@1.9.3/dist/leaflet.css&quot;/&gt;\n",
       "    &lt;link rel=&quot;stylesheet&quot; href=&quot;https://cdn.jsdelivr.net/npm/bootstrap@5.2.2/dist/css/bootstrap.min.css&quot;/&gt;\n",
       "    &lt;link rel=&quot;stylesheet&quot; href=&quot;https://netdna.bootstrapcdn.com/bootstrap/3.0.0/css/bootstrap-glyphicons.css&quot;/&gt;\n",
       "    &lt;link rel=&quot;stylesheet&quot; href=&quot;https://cdn.jsdelivr.net/npm/@fortawesome/fontawesome-free@6.2.0/css/all.min.css&quot;/&gt;\n",
       "    &lt;link rel=&quot;stylesheet&quot; href=&quot;https://cdnjs.cloudflare.com/ajax/libs/Leaflet.awesome-markers/2.0.2/leaflet.awesome-markers.css&quot;/&gt;\n",
       "    &lt;link rel=&quot;stylesheet&quot; href=&quot;https://cdn.jsdelivr.net/gh/python-visualization/folium/folium/templates/leaflet.awesome.rotate.min.css&quot;/&gt;\n",
       "    \n",
       "            &lt;meta name=&quot;viewport&quot; content=&quot;width=device-width,\n",
       "                initial-scale=1.0, maximum-scale=1.0, user-scalable=no&quot; /&gt;\n",
       "            &lt;style&gt;\n",
       "                #map_a35d28ebe6dbb07c14062b3b1640b156 {\n",
       "                    position: relative;\n",
       "                    width: 100.0%;\n",
       "                    height: 100.0%;\n",
       "                    left: 0.0%;\n",
       "                    top: 0.0%;\n",
       "                }\n",
       "                .leaflet-container { font-size: 1rem; }\n",
       "            &lt;/style&gt;\n",
       "\n",
       "            &lt;style&gt;html, body {\n",
       "                width: 100%;\n",
       "                height: 100%;\n",
       "                margin: 0;\n",
       "                padding: 0;\n",
       "            }\n",
       "            &lt;/style&gt;\n",
       "\n",
       "            &lt;style&gt;#map {\n",
       "                position:absolute;\n",
       "                top:0;\n",
       "                bottom:0;\n",
       "                right:0;\n",
       "                left:0;\n",
       "                }\n",
       "            &lt;/style&gt;\n",
       "\n",
       "            &lt;script&gt;\n",
       "                L_NO_TOUCH = false;\n",
       "                L_DISABLE_3D = false;\n",
       "            &lt;/script&gt;\n",
       "\n",
       "        \n",
       "&lt;/head&gt;\n",
       "&lt;body&gt;\n",
       "    \n",
       "    \n",
       "            &lt;div class=&quot;folium-map&quot; id=&quot;map_a35d28ebe6dbb07c14062b3b1640b156&quot; &gt;&lt;/div&gt;\n",
       "        \n",
       "&lt;/body&gt;\n",
       "&lt;script&gt;\n",
       "    \n",
       "    \n",
       "            var map_a35d28ebe6dbb07c14062b3b1640b156 = L.map(\n",
       "                &quot;map_a35d28ebe6dbb07c14062b3b1640b156&quot;,\n",
       "                {\n",
       "                    center: [-33.9, 151.24],\n",
       "                    crs: L.CRS.EPSG3857,\n",
       "                    ...{\n",
       "  &quot;zoom&quot;: 10,\n",
       "  &quot;zoomControl&quot;: true,\n",
       "  &quot;preferCanvas&quot;: false,\n",
       "}\n",
       "\n",
       "                }\n",
       "            );\n",
       "\n",
       "            \n",
       "\n",
       "        \n",
       "    \n",
       "            var tile_layer_2d8e23b5a0adafb104995e13ca88cc34 = L.tileLayer(\n",
       "                &quot;http://mt1.google.com/vt/lyrs=y\\u0026z={z}\\u0026x={x}\\u0026y={y}&quot;,\n",
       "                {\n",
       "  &quot;minZoom&quot;: 0,\n",
       "  &quot;maxZoom&quot;: 18,\n",
       "  &quot;maxNativeZoom&quot;: 18,\n",
       "  &quot;noWrap&quot;: false,\n",
       "  &quot;attribution&quot;: &quot;Google&quot;,\n",
       "  &quot;subdomains&quot;: &quot;abc&quot;,\n",
       "  &quot;detectRetina&quot;: false,\n",
       "  &quot;tms&quot;: false,\n",
       "  &quot;opacity&quot;: 1,\n",
       "}\n",
       "\n",
       "            );\n",
       "        \n",
       "    \n",
       "            tile_layer_2d8e23b5a0adafb104995e13ca88cc34.addTo(map_a35d28ebe6dbb07c14062b3b1640b156);\n",
       "        \n",
       "    \n",
       "            var poly_line_f8fe045f8093101043e281a5fb499d70 = L.polyline(\n",
       "                [[-34.1, 151.04000000000002], [-34.1, 151.44], [-33.699999999999996, 151.44], [-33.699999999999996, 151.04000000000002], [-34.1, 151.04000000000002]],\n",
       "                {&quot;bubblingMouseEvents&quot;: true, &quot;color&quot;: &quot;red&quot;, &quot;dashArray&quot;: null, &quot;dashOffset&quot;: null, &quot;fill&quot;: false, &quot;fillColor&quot;: &quot;red&quot;, &quot;fillOpacity&quot;: 0.2, &quot;fillRule&quot;: &quot;evenodd&quot;, &quot;lineCap&quot;: &quot;round&quot;, &quot;lineJoin&quot;: &quot;round&quot;, &quot;noClip&quot;: false, &quot;opacity&quot;: 0.8, &quot;smoothFactor&quot;: 1.0, &quot;stroke&quot;: true, &quot;weight&quot;: 3}\n",
       "            ).addTo(map_a35d28ebe6dbb07c14062b3b1640b156);\n",
       "        \n",
       "    \n",
       "                var lat_lng_popup_5428a1fcfd63eb1d31035e111eb37f0d = L.popup();\n",
       "                function latLngPop(e) {\n",
       "                    lat_lng_popup_5428a1fcfd63eb1d31035e111eb37f0d\n",
       "                        .setLatLng(e.latlng)\n",
       "                        .setContent(&quot;Latitude: &quot; + e.latlng.lat.toFixed(4) +\n",
       "                                    &quot;&lt;br&gt;Longitude: &quot; + e.latlng.lng.toFixed(4))\n",
       "                        .openOn(map_a35d28ebe6dbb07c14062b3b1640b156);\n",
       "                    }\n",
       "                map_a35d28ebe6dbb07c14062b3b1640b156.on(&#x27;click&#x27;, latLngPop);\n",
       "            \n",
       "&lt;/script&gt;\n",
       "&lt;/html&gt;\" style=\"position:absolute;width:100%;height:100%;left:0;top:0;border:none !important;\" allowfullscreen webkitallowfullscreen mozallowfullscreen></iframe></div></div>"
      ],
      "text/plain": [
       "<folium.folium.Map at 0x797484305990>"
      ]
     },
     "execution_count": 5,
     "metadata": {},
     "output_type": "execute_result"
    }
   ],
   "source": [
    "# Compute the bounding box for the study area\n",
    "study_area_lat = (central_lat - buffer, central_lat + buffer)\n",
    "study_area_lon = (central_lon - buffer, central_lon + buffer)\n",
    "display_map(x=study_area_lon, y=study_area_lat)"
   ]
  },
  {
   "cell_type": "markdown",
   "id": "8127a423-4402-413f-a0cf-935f2e67b960",
   "metadata": {},
   "source": [
    "# Define dates and/or period of interest\n"
   ]
  },
  {
   "cell_type": "markdown",
   "id": "9e575857-7d37-4097-b655-9733db10e66b",
   "metadata": {
    "tags": []
   },
   "source": [
    "#### Load and reproject CCI Biomass data"
   ]
  },
  {
   "cell_type": "markdown",
   "id": "e27a8437-4c4c-4e81-a070-41dd945baedc",
   "metadata": {
    "tags": []
   },
   "source": [
    "## 3.1  Observed change\n",
    "The observed change considers conversions (i.e., changes in extent of the Level 3 classes) and modification (i.e., the level 3 class remains the same but there are changes in categorical (e.g., lifeform) or continuous (e.g., water hydroperiod) environmental descriptors.  "
   ]
  },
  {
   "cell_type": "markdown",
   "id": "4d0be655-8dd1-4d45-ba40-63a31f77b07c",
   "metadata": {},
   "source": [
    "### Plot broad land cover types over the time-series"
   ]
  },
  {
   "cell_type": "markdown",
   "id": "e0ba6d19-6242-42f1-90ca-2c6c2d7159b8",
   "metadata": {},
   "source": [
    "## Load and view the FAO LCCS Level 3 data\n",
    "The following cell will load what are termed the Environmental Descriptors (EDs) used to construct the Basic (Level 3) and subsequently the Detailed (Level 4) land cover maps for the `lat_range`, `lon_range` and `time_range` defined for your area of interest."
   ]
  },
  {
   "cell_type": "markdown",
   "id": "c50b514c-6a4e-4ee2-8342-0c86faf75078",
   "metadata": {
    "tags": []
   },
   "source": [
    "You can view each of these layers using the  `plot_land_cover()` function.\n",
    "\n",
    "** Note:  You can run one, several or all of these to view the appropriate product."
   ]
  },
  {
   "cell_type": "code",
   "execution_count": 6,
   "id": "a6bf8a80-dbf0-4073-8e7b-7a821014019d",
   "metadata": {
    "tags": []
   },
   "outputs": [],
   "source": [
    "#now load the data with odc-stac\n",
    "lc = odc.stac.load(\n",
    "    items, #stac items\n",
    "    bands=[\"level3\", \"level4\"], #theses are the only two measurements\n",
    "    crs=crs,\n",
    "    resolution=resolution,\n",
    "    groupby=\"solar_day\",\n",
    "    bbox=bbox, #area to load over\n",
    ")"
   ]
  },
  {
   "cell_type": "code",
   "execution_count": 7,
   "id": "af69a4cf",
   "metadata": {},
   "outputs": [
    {
     "name": "stdout",
     "output_type": "stream",
     "text": [
      "[111. 112. 124. 215. 216. 220.  nan]\n"
     ]
    }
   ],
   "source": [
    "lc.level3[1]\n",
    "unique_vals = np.unique(lc.level3.values)\n",
    "\n",
    "print(unique_vals)"
   ]
  },
  {
   "cell_type": "markdown",
   "id": "1ce96505-986d-4712-9bd9-98f16e0ec694",
   "metadata": {},
   "source": [
    "### Level 3 change maps \n",
    "\n",
    "A first step towards developing a globally relevant and standardized taxonomy and framework for consistently describing land cover change was to establish the transition matrix between observed broad land cover classes (i.e., OEDs).  This stage was developed and is illustrated using the FAO LCCS given the dichotomous and then hierarchical modular structure of this taxonomy.  Between-class transitions and within-class changes can be identified by comparing these OEDs (i.e., the FAO LCCS Level 3 classes; 8 in total) between any two time-separated periods (i.e., T1 and T2), leading to 64 potential change categories; 56 on the off-diagonals and 8 on the on-diagonals.  \n",
    "\n",
    "** Note:  There are 6 classes in the case of Australia as there are limited cultivated aquatic landscapes, and artificial and natural water are merged.\n",
    "\n",
    "In the following steps, you will compare the earliest and latest Level 3 layers in selected time-series."
   ]
  },
  {
   "cell_type": "markdown",
   "id": "1f26e16d-fb01-45d6-b6e2-2bf9ad302a5d",
   "metadata": {},
   "source": [
    "#### Select the start and end dates for comparisons of enviromental descriptors \n",
    "(e.g., Level 3, lifeform, vegetation cover, water state and level 4 (full classification))"
   ]
  },
  {
   "cell_type": "markdown",
   "id": "a9db6fba-a212-47f7-b87a-8041df8af823",
   "metadata": {},
   "source": [
    "#### ALL LEVEL 3 CHANGES"
   ]
  },
  {
   "cell_type": "markdown",
   "id": "7ead9081-ee8f-4b28-93b9-5b2f66c4731d",
   "metadata": {},
   "source": [
    "### GAINS"
   ]
  },
  {
   "cell_type": "markdown",
   "id": "f2788769-7e77-4474-9afe-d78e53c734af",
   "metadata": {},
   "source": [
    "#### Change (gains) in Level 3 from 2010 [0] to 2020 [4 or -1]"
   ]
  },
  {
   "cell_type": "code",
   "execution_count": 8,
   "id": "4d899712-d7eb-4fdc-9118-8699870e1a5e",
   "metadata": {
    "tags": []
   },
   "outputs": [],
   "source": [
    "# Select start and end dates for comparison (change to int32 to ensure we can hold number of 6 digits)\n",
    "start = lc.level3[0].astype(np.float32)\n",
    "end = lc.level3[-1].astype(np.float32)\n",
    "ignore_no_change = True\n",
    "change_vals = (start * 1000) + end\n",
    "if ignore_no_change:\n",
    "    change_vals = np.where(start == end, 0, change_vals)"
   ]
  },
  {
   "cell_type": "code",
   "execution_count": 9,
   "id": "c3688e41-0bff-482b-b792-71e6a52d7b2d",
   "metadata": {
    "tags": []
   },
   "outputs": [],
   "source": [
    "level_3 = lc.level3[0].drop_vars(\"time\")"
   ]
  },
  {
   "cell_type": "code",
   "execution_count": 10,
   "id": "ae70ea71-d240-4ecc-ab11-eafb4298045d",
   "metadata": {
    "tags": []
   },
   "outputs": [],
   "source": [
    "# Create a new Xarray.DataArray\n",
    "obs_gain_l3_2010_2020 = xr.DataArray(\n",
    "    data=change_vals,\n",
    "    coords=level_3.coords,\n",
    "    dims=level_3.dims,\n",
    "    name=\"observed change\",\n",
    "    attrs=level_3.attrs,\n",
    "    fastpath=False,\n",
    ")"
   ]
  },
  {
   "cell_type": "code",
   "execution_count": null,
   "id": "8702c457-b2fd-4a82-8f57-b74dab704492",
   "metadata": {
    "tags": []
   },
   "outputs": [],
   "source": [
    "obs_gain_l3 = obs_gain_l3_2010_2020.to_dataset(name=\"l3_2010_2020\")\n",
    "del obs_gain_l3_2010_2020"
   ]
  },
  {
   "cell_type": "code",
   "execution_count": 11,
   "id": "e14fd238",
   "metadata": {},
   "outputs": [
    {
     "ename": "NameError",
     "evalue": "name 'obs_gain_l3' is not defined",
     "output_type": "error",
     "traceback": [
      "\u001b[31m---------------------------------------------------------------------------\u001b[39m",
      "\u001b[31mNameError\u001b[39m                                 Traceback (most recent call last)",
      "\u001b[36mCell\u001b[39m\u001b[36m \u001b[39m\u001b[32mIn[11]\u001b[39m\u001b[32m, line 1\u001b[39m\n\u001b[32m----> \u001b[39m\u001b[32m1\u001b[39m \u001b[43mobs_gain_l3\u001b[49m.l3_2010_2020\n\u001b[32m      2\u001b[39m unique_vals = np.unique(obs_gain_l3.l3_2010_2020.values)\n\u001b[32m      4\u001b[39m \u001b[38;5;28mprint\u001b[39m(unique_vals)\n",
      "\u001b[31mNameError\u001b[39m: name 'obs_gain_l3' is not defined"
     ]
    }
   ],
   "source": [
    "obs_gain_l3.l3_2010_2020\n",
    "unique_vals = np.unique(obs_gain_l3.l3_2010_2020.values)\n",
    "\n",
    "print(unique_vals)"
   ]
  },
  {
   "cell_type": "markdown",
   "id": "def9e67d-f29b-47a4-a9ca-1326271da26c",
   "metadata": {},
   "source": [
    "### Plot Level 3 gains"
   ]
  },
  {
   "cell_type": "code",
   "execution_count": null,
   "id": "adda4e00",
   "metadata": {},
   "outputs": [],
   "source": [
    "# Define a colour scheme for the Level 3\n",
    "LEVEL3_GAINS = {\n",
    "    0: (255, 255, 255, 255, \"No Change\"),\n",
    "    111112: (14, 121, 18, 255, \" \"),\n",
    "    111123: (123, 243, 236, 255, \" \"),\n",
    "    111124: (30, 191, 121, 255, \" \"),\n",
    "    111215: (218, 92, 105, 255, \" \"),\n",
    "    111216: (243, 171, 105, 255, \" \"),\n",
    "    111220: (26, 84, 185, 255, \" \"),\n",
    "    112111: (172, 188, 45, 255, \" \"),\n",
    "    112123: (123, 243, 236, 255, \" \"),\n",
    "    112124: (30, 191, 121, 255, \" \"),\n",
    "    112215: (218, 92, 105, 255, \" \"),\n",
    "    112216: (243, 171, 105, 255, \" \"),\n",
    "    112220: (26, 84, 185, 255, \" \"),\n",
    "    124111: (172, 188, 45, 255, \" \"),\n",
    "    124112: (14, 121, 18, 255, \" \"),\n",
    "    124123: (123, 243, 236, 255, \" \"),                               \n",
    "    124215: (218, 92, 105, 255, \" \"),                                \n",
    "    124216: (243, 171, 105, 255, \" \"), \n",
    "    124220: (26, 84, 185, 255, \" \"),                             \n",
    "    215111: (172, 188, 45, 255, \" \"),\n",
    "    215112: (14, 121, 18, 255, \" \"),\n",
    "    215123: (123, 243, 236, 255, \" \"),\n",
    "    215124: (30, 191, 121, 255, \" \"),                         \n",
    "    215216: (243, 171, 105, 255, \" \"),\n",
    "    215220: (26, 84, 185, 255, \" \"),\n",
    "    216111: (172, 188, 45, 255, \" \"),\n",
    "    216112: (14, 121, 18, 255, \" \"),\n",
    "    216123: (123, 243, 236, 255, \" \"),\n",
    "    216124: (30, 191, 121, 255, \" \"),    \n",
    "    216215: (218, 92, 105, 255, \" \"),\n",
    "    216220: (26, 84, 185, 255, \" \"),\n",
    "    220111: (172, 188, 45, 255, \" \"),                                   \n",
    "    220112: (14, 121, 18, 255, \" \"),\n",
    "    220123: (123, 243, 236, 255, \" \"),\n",
    "    220124: (30, 191, 121, 255, \" \"),                                       \n",
    "    220215: (218, 92, 105, 255, \" \"),      \n",
    "    220216: (243, 171, 105, 255, \" \")}"
   ]
  },
  {
   "cell_type": "code",
   "execution_count": null,
   "id": "04579212",
   "metadata": {},
   "outputs": [],
   "source": [
    "import matplotlib.colors as mcolors\n",
    "\n",
    "# Extract keys and RGBA values from LEVEL3_GAINS\n",
    "codes = list(LEVEL3_GAINS.keys())\n",
    "rgba_colors = [ (r/255, g/255, b/255, a/255) for (r,g,b,a,_) in LEVEL3_GAINS.values() ]\n",
    "\n",
    "# Create a ListedColormap\n",
    "cmap = mcolors.ListedColormap(rgba_colors, name='Level3')"
   ]
  },
  {
   "cell_type": "code",
   "execution_count": null,
   "id": "6b705998",
   "metadata": {},
   "outputs": [],
   "source": [
    "# Map class codes to indices (0..N-1)\n",
    "bounds = [i-0.5 for i in range(len(codes)+1)]  # boundaries between codes\n",
    "norm = mcolors.BoundaryNorm(bounds, cmap.N)"
   ]
  },
  {
   "cell_type": "code",
   "execution_count": null,
   "id": "639ac449-024b-4855-8112-66e5024a2e8c",
   "metadata": {
    "tags": []
   },
   "outputs": [],
   "source": [
    "import matplotlib.pyplot as plt\n",
    "import xarray as xr\n",
    "import geopandas as gpd\n",
    "\n",
    "# Sample code for plotting\n",
    "fig, ax = plt.subplots(figsize=(12, 8))\n",
    "\n",
    "# Plot the xarray data without the colorbar\n",
    "c = obs_gain_l3.l3_2010_2020.plot(ax=ax, cmap=cmap, norm=norm, add_colorbar=False)\n",
    "\n",
    "# Pretty plot options\n",
    "ax.margins(0.05)\n",
    "ax.set_aspect('equal', adjustable='datalim')\n",
    "ax.set_xlabel('Longitude', fontsize=12)  # Set x-axis label\n",
    "ax.set_ylabel('Latitude', fontsize=12)  # Set y-axis label\n",
    "ax.set_title('Level 3 Gains: 2010 to 2020', fontsize=16)\n",
    "\n",
    "# Create a custom legend\n",
    "legend_colors = {\n",
    "    \"#FFFFFF\": [0.0, \"Not classified\"],\n",
    "    \"#D1E133\": [111.0, \"Gained Cultivated or managed terrestrial vegetation\"],\n",
    "    \"#007A02\": [113.0, \"Gained Semi-natural terrestrial woody vegetation\"],\n",
    "    \"#95c748\": [114.0, \"Gained Semi-natural terrestrial herbaceous vegetation\"],\n",
    "    \"#4EEEE8\": [123.0, \"Gained Cultivated or managed aquatic vegetation\"],\n",
    "    \"#02C077\": [124.0, \"Gained Semi-natural aquatic vegetation\"],\n",
    "    \"#DA5C69\": [215.0, \"Gained Artificial surface\"],\n",
    "    \"#F3AB69\": [216.0, \"Gained Bare surface\"],\n",
    "    \"#4D9FDC\": [220.0, \"Gained Water\"],\n",
    "}\n",
    "\n",
    "legend_labels = [\n",
    "    \"Not classified\",\n",
    "    \"Gained Cultivated or managed terrestrial vegetation\",\n",
    "    \"Gained Semi-natural terrestrial woody vegetation\",\n",
    "    \"Gained Semi-natural terrestrial herbaceous vegetation\",\n",
    "    \"Gained Cultivated or managed aquatic vegetation\",\n",
    "    \"Gained Semi-natural aquatic vegetation\",\n",
    "    \"Gained Artificial surface\",\n",
    "    \"Gained Bare surface\",\n",
    "    \"Gained Water\",\n",
    "    \n",
    "]\n",
    "\n",
    "# Create custom legend\n",
    "handles = [plt.Line2D([0], [0], marker='o', color='w', label=label, \n",
    "                       markerfacecolor=color, markersize=10,\n",
    "                     markeredgewidth=0.8, markeredgecolor='black') for label, color in zip(legend_labels, legend_colors)]\n",
    "\n",
    "#ax.legend(handles=handles, loc='lower right', fontsize=10, title='', title_fontsize='13', frameon=True)\n",
    "ax.legend(handles=handles, loc='center left', bbox_to_anchor=(1, 0.5), fontsize=10, title='', title_fontsize='13', frameon=True)\n",
    "\n",
    "plt.tight_layout()\n",
    "plt.show()\n",
    "\n",
    "#obs_gain_l3.l3_2010_2020.plot(cmap=cmap, norm=norm)"
   ]
  },
  {
   "cell_type": "code",
   "execution_count": null,
   "id": "c5f85c18-936f-44d0-a58f-b2ad73983c6e",
   "metadata": {
    "tags": []
   },
   "outputs": [],
   "source": [
    "#This method uses the datacube.utils.cog function write_cog (where COG stands for Cloud Optimised GeoTIFF) \n",
    "#to export a simple single-band, single time-slice GeoTIFF file. A few important caveats should be noted when using this function:\n",
    "#It requires an xarray.DataArray; supplying an xarray.Dataset will return an error. \n",
    "\n",
    "# Write GeoTIFF to a location\n",
    "write_cog(geo_im=obs_gain_l3[\"l3_2010_2020\"],\n",
    "          fname='outputs/obs_gain_l3_2010_2020.tif',\n",
    "          overwrite=True)"
   ]
  },
  {
   "cell_type": "markdown",
   "id": "ccc6c703-8657-48d4-baab-11348a0b38cb",
   "metadata": {},
   "source": [
    "### LOSSES"
   ]
  },
  {
   "cell_type": "markdown",
   "id": "28f5da01-62db-4c3e-af1c-5017e09d8860",
   "metadata": {},
   "source": [
    "#### Identify change (loss) in Level 3 from 2010 [0] to 2020 [-1 or 4]"
   ]
  },
  {
   "cell_type": "code",
   "execution_count": null,
   "id": "2fb4d14f-02d6-4d33-8c9e-2b04251a9f39",
   "metadata": {
    "tags": []
   },
   "outputs": [],
   "source": [
    "# Select start and end dates for comparison (change to int32 to ensure we can hold number of 6 digits)\n",
    "# (Note changing to (end * 1000) + start\n",
    "start = lc.level3[0].astype(np.float32)\n",
    "end = lc.level3[-1].astype(np.float32)\n",
    "ignore_no_change = True\n",
    "change_vals = (end * 1000) + start\n",
    "if ignore_no_change:\n",
    "    change_vals = np.where(start == end, 0, change_vals)\n",
    "#level_3 = lc.level3[0].drop_vars(\"time\")"
   ]
  },
  {
   "cell_type": "code",
   "execution_count": null,
   "id": "ad9a6cab-466a-4941-8869-6b114a5631fe",
   "metadata": {
    "tags": []
   },
   "outputs": [],
   "source": [
    "# Create a new Xarray.DataArray\n",
    "obs_loss_l3_2010_2020= xr.DataArray(\n",
    "    data=change_vals,\n",
    "    coords=level_3.coords,\n",
    "    dims=level_3.dims,\n",
    "    name=\"observed losses\",\n",
    "    attrs=level_3.attrs,\n",
    "    fastpath=False,\n",
    ")"
   ]
  },
  {
   "cell_type": "code",
   "execution_count": null,
   "id": "2b4d66c4-0da2-490e-ac2b-be2b00699277",
   "metadata": {
    "tags": []
   },
   "outputs": [],
   "source": [
    "obs_loss_l3 = obs_loss_l3_2010_2020.to_dataset(name=\"l3_2010_2020\")\n",
    "del obs_loss_l3_2010_2020"
   ]
  },
  {
   "cell_type": "markdown",
   "id": "4ea5be70-e1a1-416d-9237-2cf4cef35fc3",
   "metadata": {},
   "source": [
    "#### Change from 2017 [1] to 2018 [2]"
   ]
  },
  {
   "cell_type": "markdown",
   "id": "6424812f-91a7-4110-9d5e-e3bdd97fb6a7",
   "metadata": {},
   "source": [
    "#### Plot Level 3 losses"
   ]
  },
  {
   "cell_type": "code",
   "execution_count": null,
   "id": "e32e2344-18a3-4ab8-b3d5-95b88df818a9",
   "metadata": {},
   "outputs": [],
   "source": [
    "import matplotlib.pyplot as plt\n",
    "import xarray as xr\n",
    "import geopandas as gpd\n",
    "\n",
    "# Sample code for plotting\n",
    "fig, ax = plt.subplots(figsize=(12, 8))\n",
    "\n",
    "# Plot the xarray data without the colorbar\n",
    "c = obs_loss_l3.l3_2010_2020.plot(ax=ax, cmap=cmap, norm=norm, add_colorbar=False)\n",
    "\n",
    "# Pretty plot options\n",
    "ax.margins(0.05)\n",
    "ax.set_aspect('equal', adjustable='datalim')\n",
    "ax.set_xlabel('Longitude', fontsize=12)  # Set x-axis label\n",
    "ax.set_ylabel('Latitude', fontsize=12)  # Set y-axis label\n",
    "ax.set_title('Level 3 losses: 2010 to 2020', fontsize=16)\n",
    "\n",
    "# Create a custom legend\n",
    "legend_colors = {\n",
    "    \"#FFFFFF\": [0.0, \"Not classified\"],\n",
    "    \"#D1E133\": [111.0, \"Cultivated or managed terrestrial vegetation\"],\n",
    "    \"#007A02\": [113.0, \"Semi-natural terrestrial woody vegetation\"],\n",
    "    \"#95c748\": [114.0, \"Semi-natural terrestrial herbaceous vegetation\"],\n",
    "    \"#4EEEE8\": [123.0, \"Cultivated or managed aquatic vegetation\"],\n",
    "    \"#02C077\": [124.0, \"Semi-natural aquatic vegetation\"],\n",
    "    \"#DA5C69\": [215.0, \"Artificial surface\"],\n",
    "    \"#F3AB69\": [216.0, \"Bare surface\"],\n",
    "    \"#4D9FDC\": [220.0, \"Water\"],\n",
    "}\n",
    "\n",
    "legend_labels = [\n",
    "    \"Not classified\",\n",
    "    \"Cultivated or managed terrestrial vegetation\",\n",
    "    \"Semi-natural terrestrial woody vegetation\",\n",
    "    \"Semi-natural terrestrial herbaceous vegetation\",\n",
    "    \"Cultivated or managed aquatic vegetation\",\n",
    "    \"Semi-natural aquatic vegetation\",\n",
    "    \"Artificial surface\",\n",
    "    \"Bare surface\",\n",
    "    \"Water\",\n",
    "    \n",
    "]\n",
    "\n",
    "# Create custom legend\n",
    "handles = [plt.Line2D([0], [0], marker='o', color='w', label=label, \n",
    "                       markerfacecolor=color, markersize=10,\n",
    "                     markeredgewidth=0.8, markeredgecolor='black') for label, color in zip(legend_labels, legend_colors)]\n",
    "\n",
    "#ax.legend(handles=handles, loc='lower right', fontsize=10, title='', title_fontsize='13', frameon=True)\n",
    "ax.legend(handles=handles, loc='center left', bbox_to_anchor=(1, 0.5), fontsize=10, title='', title_fontsize='13', frameon=True)\n",
    "\n",
    "plt.tight_layout()\n",
    "plt.show()"
   ]
  },
  {
   "cell_type": "code",
   "execution_count": null,
   "id": "8a2fbd5c-d492-4e03-9b96-f7a97b5d9b10",
   "metadata": {
    "tags": []
   },
   "outputs": [],
   "source": [
    "#This method uses the datacube.utils.cog function write_cog (where COG stands for Cloud Optimised GeoTIFF) \n",
    "#to export a simple single-band, single time-slice GeoTIFF file. A few important caveats should be noted when using this function:\n",
    "#It requires an xarray.DataArray; supplying an xarray.Dataset will return an error. \n",
    "\n",
    "# Write GeoTIFF to a location\n",
    "write_cog(geo_im=obs_loss_l3[\"l3_2010_2020\"],\n",
    "          fname='outputs/obs_loss_l3_2010_2020.tif',\n",
    "          overwrite=True)"
   ]
  },
  {
   "cell_type": "markdown",
   "id": "b2f26b88-4a57-43c9-8911-8f28b48b4f74",
   "metadata": {},
   "source": [
    "### NO CHANGE"
   ]
  },
  {
   "cell_type": "markdown",
   "id": "41914f92-a06b-48c9-b92a-9cf4a7b45810",
   "metadata": {},
   "source": [
    "#### Areas of no change from 2010 [0] to 2020 [-1 or 4]"
   ]
  },
  {
   "cell_type": "code",
   "execution_count": null,
   "id": "ada50093-10b3-40b5-88da-3e37cbeeab75",
   "metadata": {
    "tags": []
   },
   "outputs": [],
   "source": [
    "# Select start and end dates for comparison (change to int32 to ensure we can hold number of 6 digits)\n",
    "start = lc.level3[0].astype(np.float32)\n",
    "end = lc.level3[-1].astype(np.float32)\n",
    "\n",
    "# Mark if you want to ignore no change\n",
    "ignore_no_change = False\n",
    "\n",
    "# Combine classifications from start and end dates\n",
    "change_vals = (start * 1000) + end\n",
    "\n",
    "# Mask out values with no change by setting to 0 if this is requested\n",
    "if ignore_no_change:\n",
    "    change_vals = np.where(start == end, 0, change_vals)\n",
    "    \n",
    "level_3 = lc.level3[0].drop_vars(\"time\") \n",
    "\n",
    "# Create a new Xarray.DataArray\n",
    "obs_change_l3_2010_2020 = xr.DataArray(\n",
    "    data=change_vals,\n",
    "    coords=level_3.coords,\n",
    "    dims=level_3.dims,\n",
    "    name=\"observed change\",\n",
    "    attrs=level_3.attrs,\n",
    "    fastpath=False,\n",
    ")"
   ]
  },
  {
   "cell_type": "code",
   "execution_count": null,
   "id": "4a0e170d-7a6d-4f9f-9bdd-2bd87e7ff9a4",
   "metadata": {
    "tags": []
   },
   "outputs": [],
   "source": [
    "obs_change_l3 = obs_change_l3_2010_2020.to_dataset(name=\"l3_2010_2020\")\n",
    "del obs_change_l3_2010_2020"
   ]
  },
  {
   "cell_type": "code",
   "execution_count": null,
   "id": "dd26286c-eb57-4f21-8b81-0ebece9560ad",
   "metadata": {},
   "outputs": [],
   "source": [
    "import matplotlib.pyplot as plt\n",
    "import xarray as xr\n",
    "import geopandas as gpd\n",
    "\n",
    "# Sample code for plotting\n",
    "fig, ax = plt.subplots(figsize=(12, 8))\n",
    "\n",
    "# Plot the xarray data without the colorbar\n",
    "c = obs_change_l3.l3_2010_2020.plot(ax=ax, cmap=cmap, norm=norm, add_colorbar=False)\n",
    "\n",
    "# Pretty plot options\n",
    "ax.margins(0.05)\n",
    "ax.set_aspect('equal', adjustable='datalim')\n",
    "ax.set_xlabel('Longitude', fontsize=12)  # Set x-axis label\n",
    "ax.set_ylabel('Latitude', fontsize=12)  # Set y-axis label\n",
    "ax.set_title('Level 3 no changes: 2010 to 2020', fontsize=16)\n",
    "\n",
    "# Create a custom legend\n",
    "legend_colors = {\n",
    "    \"#FFFFFF\": [0.0, \"Not classified\"],\n",
    "    \"#D1E133\": [111.0, \"Cultivated or managed terrestrial vegetation\"],\n",
    "    \"#007A02\": [113.0, \"Semi-natural terrestrial woody vegetation\"],\n",
    "    \"#95c748\": [114.0, \"Semi-natural terrestrial herbaceous vegetation\"],\n",
    "    \"#4EEEE8\": [123.0, \"Cultivated or managed aquatic vegetation\"],\n",
    "    \"#02C077\": [124.0, \"Semi-natural aquatic vegetation\"],\n",
    "    \"#DA5C69\": [215.0, \"Artificial surface\"],\n",
    "    \"#F3AB69\": [216.0, \"Bare surface\"],\n",
    "    \"#4D9FDC\": [220.0, \"Water\"],\n",
    "}\n",
    "\n",
    "legend_labels = [\n",
    "    \"Not classified\",\n",
    "    \"Cultivated or managed terrestrial vegetation\",\n",
    "    \"Semi-natural terrestrial woody vegetation\",\n",
    "    \"Semi-natural terrestrial herbaceous vegetation\",\n",
    "    \"Cultivated or managed aquatic vegetation\",\n",
    "    \"Semi-natural aquatic vegetation\",\n",
    "    \"Artificial surface\",\n",
    "    \"Bare surface\",\n",
    "    \"Water\",\n",
    "    \n",
    "]\n",
    "\n",
    "# Create custom legend\n",
    "handles = [plt.Line2D([0], [0], marker='o', color='w', label=label, \n",
    "                       markerfacecolor=color, markersize=10,\n",
    "                     markeredgewidth=0.8, markeredgecolor='black') for label, color in zip(legend_labels, legend_colors)]\n",
    "\n",
    "#ax.legend(handles=handles, loc='lower right', fontsize=10, title='', title_fontsize='13', frameon=True)\n",
    "ax.legend(handles=handles, loc='center left', bbox_to_anchor=(1, 0.5), fontsize=10, title='', title_fontsize='13', frameon=True)\n",
    "\n",
    "plt.tight_layout()\n",
    "plt.show()"
   ]
  },
  {
   "cell_type": "markdown",
   "id": "e81aa62c-3b7c-4704-839e-15a44edaf13c",
   "metadata": {},
   "source": [
    "#### Export as a Geotif"
   ]
  },
  {
   "cell_type": "code",
   "execution_count": null,
   "id": "11c90333-4072-4ad1-8af2-4dca8ec98fad",
   "metadata": {
    "tags": []
   },
   "outputs": [],
   "source": [
    "#This method uses the datacube.utils.cog function write_cog (where COG stands for Cloud Optimised GeoTIFF) \n",
    "#to export a simple single-band, single time-slice GeoTIFF file. A few important caveats should be noted when using this function:\n",
    "#It requires an xarray.DataArray; supplying an xarray.Dataset will return an error. \n",
    "\n",
    "# Write GeoTIFF to a location\n",
    "write_cog(geo_im=obs_change_l3[\"l3_2010_2020\"],\n",
    "          fname='outputs/no_change_l3_2010_2020.tif',\n",
    "          overwrite=True)"
   ]
  },
  {
   "cell_type": "markdown",
   "id": "3aeefe93-bde9-4326-8511-20a8b5c6ea30",
   "metadata": {
    "tags": []
   },
   "source": [
    "***\n",
    "\n",
    "## Additional information\n",
    "\n",
    "**License:** The code in this notebook is licensed under the [Apache License, Version 2.0](https://www.apache.org/licenses/LICENSE-2.0). \n",
    "Digital Earth Australia data is licensed under the [Creative Commons by Attribution 4.0](https://creativecommons.org/licenses/by/4.0/) license.\n",
    "\n",
    "**Contact:** If you need assistance, please post a question on the [Open Data Cube Slack channel](http://slack.opendatacube.org/) or on the [GIS Stack Exchange](https://gis.stackexchange.com/questions/ask?tags=open-data-cube) using the `open-data-cube` tag (you can view previously asked questions [here](https://gis.stackexchange.com/questions/tagged/open-data-cube)).\n",
    "If you would like to report an issue with this notebook, you can file one on [Github](https://github.com/GeoscienceAustralia/dea-notebooks).\n",
    "\n",
    "**Last modified:** February 2022\n",
    "\n",
    "**Compatible datacube version:** "
   ]
  },
  {
   "cell_type": "markdown",
   "id": "e23ed132-2f33-4749-a1e6-7b32c9a55d4e",
   "metadata": {},
   "source": [
    "## Tags\n",
    "Browse all available tags on the DEA User Guide's [Tags Index](https://docs.dea.ga.gov.au/genindex.html)"
   ]
  },
  {
   "cell_type": "raw",
   "id": "8bf2e2ba-392e-432f-87a9-4476aaed4b52",
   "metadata": {},
   "source": [
    "**Tags**: :index:`sandbox compatible`, :index:`landsat 5`, :index:`landsat 7`, :index:`landsat 8`, \n",
    ":index:`DEA Land Cover`, :index:`time series`, :index: `LCCS`, :index:`colour maps`, :index:`data visualisation`"
   ]
  },
  {
   "cell_type": "code",
   "execution_count": null,
   "id": "4c60f8a3-6412-4d6c-b990-813f69a9e8ea",
   "metadata": {},
   "outputs": [],
   "source": []
  },
  {
   "cell_type": "code",
   "execution_count": null,
   "id": "6ecaaa51-2291-4dea-bf3e-dd999971604c",
   "metadata": {},
   "outputs": [],
   "source": []
  }
 ],
 "metadata": {
  "kernelspec": {
   "display_name": "Python 3",
   "language": "python",
   "name": "python3"
  },
  "language_info": {
   "codemirror_mode": {
    "name": "ipython",
    "version": 3
   },
   "file_extension": ".py",
   "mimetype": "text/x-python",
   "name": "python",
   "nbconvert_exporter": "python",
   "pygments_lexer": "ipython3",
   "version": "3.11.13"
  },
  "widgets": {
   "application/vnd.jupyter.widget-state+json": {
    "state": {},
    "version_major": 2,
    "version_minor": 0
   }
  }
 },
 "nbformat": 4,
 "nbformat_minor": 5
}
