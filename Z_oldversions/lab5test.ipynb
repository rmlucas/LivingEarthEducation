{
 "cells": [
  {
   "cell_type": "markdown",
   "id": "1faf5f42-ffb4-47cb-adae-a0c03134ad33",
   "metadata": {},
   "source": [
    "# *Living Earth* Observed change\n",
    "# Mapping conversions and modifications of land cover\n",
    "<img align=\"right\" src=\"../../Supplementary_data/dea_logo.jpg\">\n",
    "\n",
    "* **[Sign up to the DEA Sandbox](https://app.sandbox.dea.ga.gov.au/)** to run this notebook interactively from a browser\n",
    "* **Compatibility:** Notebook currently compatible with `DEA Sandbox` environment\n",
    "* **Products used:** \n",
    "[ga_s2am_ard_3](https://explorer.dea.ga.gov.au/products/ga_s2am_ard_3)\n"
   ]
  },
  {
   "cell_type": "markdown",
   "id": "ce34ad61-c255-42e0-95eb-8d5c4db089f2",
   "metadata": {},
   "source": [
    "## Overview of observed changes"
   ]
  },
  {
   "cell_type": "markdown",
   "id": "452d7107-02b5-4236-adfe-00a12f020b2a",
   "metadata": {},
   "source": [
    "**Land Cover** is the physical and biological cover of the land surface and includes vegetation (managed or semi-natural), water and bare surfaces.  The land cover maps generated through Living Land Management use the legends of the United Nation's Food and Agriculture Organisation (FAO) Land Cover Classification System (LCCS).\n",
    "\n",
    "Transitions between any two Level 3 land cover types (off-diagonals in a transition matrix) correspond to a change in extent in both the original class at the time of the first observation (T1) and the replacement class in the second observation (T2) (i.e., a land cover **conversion**). More detailed descriptions of the land cover class prior to and following the change can be provided by referencing the categorical and continuous environmental descriptors used in the construction of the FAO LCCS classes at T1 and T2 respectively as well as AEDs. \n",
    "\n",
    "Where the Level 3 class remains the same between time-separated periods (the on-diagonals in the transition matrix), a modification rather than conversion of the land cover occurs and only changes in the amounts or type of state indictors within the Level 3 class can take place. These changes can only be described by considering variations (decreases, increases or no difference) in what are termed Essential Environmental Descriptors (EEDs) that are required to construct the FAO LCCS or Additional Environmental Descriptors (AEDs) that are not required but provide additional descriptors.  These descriptors can be units of measurements (or categorizations of these; e.g. canopy cover in %) or simply a change in a pre-defined category (e.g., representing lifeform or leaf type).\n",
    "\n"
   ]
  },
  {
   "cell_type": "markdown",
   "id": "4331b468-fbc5-4b09-8478-78df574cb743",
   "metadata": {},
   "source": [
    "## Description \n",
    "\n",
    "Through Geoscience Australia's (GA) Digital Earth Australia (DEA) Land Cover, land cover maps have been generated for 34 years (1988 to 2020) from environmental descriptors retreived or classified entirely from Landsat sensor data and according to the Food and Agriculture Organisation (FAO) Land Cover Classification System (Version 2).  The spatial resolution of the mapping is 25 m \n",
    "(see DEA Land Cover) at https://cmi.ga.gov.au/data-products/dea/607/dea-land-cover-landsat)\n",
    "\n",
    "For a selected area of interest, the notebook compares land cover data for any two years and generates maps of conversions (changes in extent) or modifications (no changes in extent but a change in type (e.g. lifeform) or condition of land covers).\n",
    "\n",
    "1. Loading and displaying DEA land cover classifications (basic and detailed) and contributing environmental descriptors for an area of interest.\n",
    "2. Determing areas of land cover conversions (losses and gains) based on time-series comparison of the land cover maps between two years.\n",
    "3. Determining areas of no change in the FAO LCCS Level 3 classes where there is potential for a modification to occur. \n",
    "\n",
    "This notebook requires a basic understanding of the DEA Land Cover data set. \n",
    "If you are new to DEA Land Cover, it is recommended you look at the introductory [DEA Land Cover notebook](../DEA_datasets/DEA_Land_Cover.ipynb) first. \n",
    "\n",
    "This notebook requires a basic understanding of the DEA Land Cover data set. \n",
    "If you are new to DEA Land Cover, it is recommended you look at the introductory [DEA Land Cover notebook](../DEA_datasets/DEA_Land_Cover.ipynb) first. \n",
    "\n",
    "***"
   ]
  },
  {
   "cell_type": "markdown",
   "id": "45a61d5c-3ec6-4e3f-a68e-bf2e1c2fccc7",
   "metadata": {},
   "source": [
    "## Getting started\n",
    "\n",
    "To run this analysis, run all the cells in the notebook starting with the 'Load packages and connect to the datacube' cell."
   ]
  },
  {
   "cell_type": "code",
   "execution_count": 1,
   "id": "e962815a-b419-4349-ac8d-43027a409d69",
   "metadata": {
    "tags": []
   },
   "outputs": [
    {
     "ename": "ImportError",
     "evalue": "dlopen(/opt/anaconda3/lib/python3.9/site-packages/PIL/_imaging.cpython-39-darwin.so, 0x0002): Library not loaded: @rpath/libtiff.5.dylib\n  Referenced from: <1CCD72A1-A76E-3026-9956-EA6FA41A1C72> /opt/anaconda3/lib/python3.9/site-packages/PIL/_imaging.cpython-39-darwin.so\n  Reason: tried: '/opt/anaconda3/lib/python3.9/site-packages/PIL/../../../libtiff.5.dylib' (no such file), '/opt/anaconda3/lib/python3.9/site-packages/PIL/../../../libtiff.5.dylib' (no such file), '/opt/anaconda3/bin/../lib/libtiff.5.dylib' (no such file), '/opt/anaconda3/bin/../lib/libtiff.5.dylib' (no such file), '/usr/local/lib/libtiff.5.dylib' (no such file), '/usr/lib/libtiff.5.dylib' (no such file, not in dyld cache)",
     "output_type": "error",
     "traceback": [
      "\u001b[0;31m---------------------------------------------------------------------------\u001b[0m",
      "\u001b[0;31mImportError\u001b[0m                               Traceback (most recent call last)",
      "\u001b[0;32m/var/folders/y5/_yrlrtjs59lfnfyx47qs415r0000gq/T/ipykernel_37259/3555960147.py\u001b[0m in \u001b[0;36m<cell line: 1>\u001b[0;34m()\u001b[0m\n\u001b[0;32m----> 1\u001b[0;31m \u001b[0mget_ipython\u001b[0m\u001b[0;34m(\u001b[0m\u001b[0;34m)\u001b[0m\u001b[0;34m.\u001b[0m\u001b[0mrun_line_magic\u001b[0m\u001b[0;34m(\u001b[0m\u001b[0;34m'matplotlib'\u001b[0m\u001b[0;34m,\u001b[0m \u001b[0;34m'inline'\u001b[0m\u001b[0;34m)\u001b[0m\u001b[0;34m\u001b[0m\u001b[0;34m\u001b[0m\u001b[0m\n\u001b[0m\u001b[1;32m      2\u001b[0m \u001b[0;34m\u001b[0m\u001b[0m\n\u001b[1;32m      3\u001b[0m \u001b[0;32mimport\u001b[0m \u001b[0mdatacube\u001b[0m\u001b[0;34m\u001b[0m\u001b[0;34m\u001b[0m\u001b[0m\n\u001b[1;32m      4\u001b[0m \u001b[0;32mimport\u001b[0m \u001b[0mmatplotlib\u001b[0m\u001b[0;34m.\u001b[0m\u001b[0mpyplot\u001b[0m \u001b[0;32mas\u001b[0m \u001b[0mplt\u001b[0m\u001b[0;34m\u001b[0m\u001b[0;34m\u001b[0m\u001b[0m\n\u001b[1;32m      5\u001b[0m \u001b[0;32mimport\u001b[0m \u001b[0mnumpy\u001b[0m \u001b[0;32mas\u001b[0m \u001b[0mnp\u001b[0m\u001b[0;34m\u001b[0m\u001b[0;34m\u001b[0m\u001b[0m\n",
      "\u001b[0;32m/opt/anaconda3/lib/python3.9/site-packages/IPython/core/interactiveshell.py\u001b[0m in \u001b[0;36mrun_line_magic\u001b[0;34m(self, magic_name, line, _stack_depth)\u001b[0m\n\u001b[1;32m   2415\u001b[0m                 \u001b[0mkwargs\u001b[0m\u001b[0;34m[\u001b[0m\u001b[0;34m'local_ns'\u001b[0m\u001b[0;34m]\u001b[0m \u001b[0;34m=\u001b[0m \u001b[0mself\u001b[0m\u001b[0;34m.\u001b[0m\u001b[0mget_local_scope\u001b[0m\u001b[0;34m(\u001b[0m\u001b[0mstack_depth\u001b[0m\u001b[0;34m)\u001b[0m\u001b[0;34m\u001b[0m\u001b[0;34m\u001b[0m\u001b[0m\n\u001b[1;32m   2416\u001b[0m             \u001b[0;32mwith\u001b[0m \u001b[0mself\u001b[0m\u001b[0;34m.\u001b[0m\u001b[0mbuiltin_trap\u001b[0m\u001b[0;34m:\u001b[0m\u001b[0;34m\u001b[0m\u001b[0;34m\u001b[0m\u001b[0m\n\u001b[0;32m-> 2417\u001b[0;31m                 \u001b[0mresult\u001b[0m \u001b[0;34m=\u001b[0m \u001b[0mfn\u001b[0m\u001b[0;34m(\u001b[0m\u001b[0;34m*\u001b[0m\u001b[0margs\u001b[0m\u001b[0;34m,\u001b[0m \u001b[0;34m**\u001b[0m\u001b[0mkwargs\u001b[0m\u001b[0;34m)\u001b[0m\u001b[0;34m\u001b[0m\u001b[0;34m\u001b[0m\u001b[0m\n\u001b[0m\u001b[1;32m   2418\u001b[0m             \u001b[0;32mreturn\u001b[0m \u001b[0mresult\u001b[0m\u001b[0;34m\u001b[0m\u001b[0;34m\u001b[0m\u001b[0m\n\u001b[1;32m   2419\u001b[0m \u001b[0;34m\u001b[0m\u001b[0m\n",
      "\u001b[0;32m/opt/anaconda3/lib/python3.9/site-packages/decorator.py\u001b[0m in \u001b[0;36mfun\u001b[0;34m(*args, **kw)\u001b[0m\n\u001b[1;32m    230\u001b[0m             \u001b[0;32mif\u001b[0m \u001b[0;32mnot\u001b[0m \u001b[0mkwsyntax\u001b[0m\u001b[0;34m:\u001b[0m\u001b[0;34m\u001b[0m\u001b[0;34m\u001b[0m\u001b[0m\n\u001b[1;32m    231\u001b[0m                 \u001b[0margs\u001b[0m\u001b[0;34m,\u001b[0m \u001b[0mkw\u001b[0m \u001b[0;34m=\u001b[0m \u001b[0mfix\u001b[0m\u001b[0;34m(\u001b[0m\u001b[0margs\u001b[0m\u001b[0;34m,\u001b[0m \u001b[0mkw\u001b[0m\u001b[0;34m,\u001b[0m \u001b[0msig\u001b[0m\u001b[0;34m)\u001b[0m\u001b[0;34m\u001b[0m\u001b[0;34m\u001b[0m\u001b[0m\n\u001b[0;32m--> 232\u001b[0;31m             \u001b[0;32mreturn\u001b[0m \u001b[0mcaller\u001b[0m\u001b[0;34m(\u001b[0m\u001b[0mfunc\u001b[0m\u001b[0;34m,\u001b[0m \u001b[0;34m*\u001b[0m\u001b[0;34m(\u001b[0m\u001b[0mextras\u001b[0m \u001b[0;34m+\u001b[0m \u001b[0margs\u001b[0m\u001b[0;34m)\u001b[0m\u001b[0;34m,\u001b[0m \u001b[0;34m**\u001b[0m\u001b[0mkw\u001b[0m\u001b[0;34m)\u001b[0m\u001b[0;34m\u001b[0m\u001b[0;34m\u001b[0m\u001b[0m\n\u001b[0m\u001b[1;32m    233\u001b[0m     \u001b[0mfun\u001b[0m\u001b[0;34m.\u001b[0m\u001b[0m__name__\u001b[0m \u001b[0;34m=\u001b[0m \u001b[0mfunc\u001b[0m\u001b[0;34m.\u001b[0m\u001b[0m__name__\u001b[0m\u001b[0;34m\u001b[0m\u001b[0;34m\u001b[0m\u001b[0m\n\u001b[1;32m    234\u001b[0m     \u001b[0mfun\u001b[0m\u001b[0;34m.\u001b[0m\u001b[0m__doc__\u001b[0m \u001b[0;34m=\u001b[0m \u001b[0mfunc\u001b[0m\u001b[0;34m.\u001b[0m\u001b[0m__doc__\u001b[0m\u001b[0;34m\u001b[0m\u001b[0;34m\u001b[0m\u001b[0m\n",
      "\u001b[0;32m/opt/anaconda3/lib/python3.9/site-packages/IPython/core/magic.py\u001b[0m in \u001b[0;36m<lambda>\u001b[0;34m(f, *a, **k)\u001b[0m\n\u001b[1;32m    185\u001b[0m     \u001b[0;31m# but it's overkill for just that one bit of state.\u001b[0m\u001b[0;34m\u001b[0m\u001b[0;34m\u001b[0m\u001b[0m\n\u001b[1;32m    186\u001b[0m     \u001b[0;32mdef\u001b[0m \u001b[0mmagic_deco\u001b[0m\u001b[0;34m(\u001b[0m\u001b[0marg\u001b[0m\u001b[0;34m)\u001b[0m\u001b[0;34m:\u001b[0m\u001b[0;34m\u001b[0m\u001b[0;34m\u001b[0m\u001b[0m\n\u001b[0;32m--> 187\u001b[0;31m         \u001b[0mcall\u001b[0m \u001b[0;34m=\u001b[0m \u001b[0;32mlambda\u001b[0m \u001b[0mf\u001b[0m\u001b[0;34m,\u001b[0m \u001b[0;34m*\u001b[0m\u001b[0ma\u001b[0m\u001b[0;34m,\u001b[0m \u001b[0;34m**\u001b[0m\u001b[0mk\u001b[0m\u001b[0;34m:\u001b[0m \u001b[0mf\u001b[0m\u001b[0;34m(\u001b[0m\u001b[0;34m*\u001b[0m\u001b[0ma\u001b[0m\u001b[0;34m,\u001b[0m \u001b[0;34m**\u001b[0m\u001b[0mk\u001b[0m\u001b[0;34m)\u001b[0m\u001b[0;34m\u001b[0m\u001b[0;34m\u001b[0m\u001b[0m\n\u001b[0m\u001b[1;32m    188\u001b[0m \u001b[0;34m\u001b[0m\u001b[0m\n\u001b[1;32m    189\u001b[0m         \u001b[0;32mif\u001b[0m \u001b[0mcallable\u001b[0m\u001b[0;34m(\u001b[0m\u001b[0marg\u001b[0m\u001b[0;34m)\u001b[0m\u001b[0;34m:\u001b[0m\u001b[0;34m\u001b[0m\u001b[0;34m\u001b[0m\u001b[0m\n",
      "\u001b[0;32m/opt/anaconda3/lib/python3.9/site-packages/IPython/core/magics/pylab.py\u001b[0m in \u001b[0;36mmatplotlib\u001b[0;34m(self, line)\u001b[0m\n\u001b[1;32m     97\u001b[0m             \u001b[0mprint\u001b[0m\u001b[0;34m(\u001b[0m\u001b[0;34m\"Available matplotlib backends: %s\"\u001b[0m \u001b[0;34m%\u001b[0m \u001b[0mbackends_list\u001b[0m\u001b[0;34m)\u001b[0m\u001b[0;34m\u001b[0m\u001b[0;34m\u001b[0m\u001b[0m\n\u001b[1;32m     98\u001b[0m         \u001b[0;32melse\u001b[0m\u001b[0;34m:\u001b[0m\u001b[0;34m\u001b[0m\u001b[0;34m\u001b[0m\u001b[0m\n\u001b[0;32m---> 99\u001b[0;31m             \u001b[0mgui\u001b[0m\u001b[0;34m,\u001b[0m \u001b[0mbackend\u001b[0m \u001b[0;34m=\u001b[0m \u001b[0mself\u001b[0m\u001b[0;34m.\u001b[0m\u001b[0mshell\u001b[0m\u001b[0;34m.\u001b[0m\u001b[0menable_matplotlib\u001b[0m\u001b[0;34m(\u001b[0m\u001b[0margs\u001b[0m\u001b[0;34m.\u001b[0m\u001b[0mgui\u001b[0m\u001b[0;34m.\u001b[0m\u001b[0mlower\u001b[0m\u001b[0;34m(\u001b[0m\u001b[0;34m)\u001b[0m \u001b[0;32mif\u001b[0m \u001b[0misinstance\u001b[0m\u001b[0;34m(\u001b[0m\u001b[0margs\u001b[0m\u001b[0;34m.\u001b[0m\u001b[0mgui\u001b[0m\u001b[0;34m,\u001b[0m \u001b[0mstr\u001b[0m\u001b[0;34m)\u001b[0m \u001b[0;32melse\u001b[0m \u001b[0margs\u001b[0m\u001b[0;34m.\u001b[0m\u001b[0mgui\u001b[0m\u001b[0;34m)\u001b[0m\u001b[0;34m\u001b[0m\u001b[0;34m\u001b[0m\u001b[0m\n\u001b[0m\u001b[1;32m    100\u001b[0m             \u001b[0mself\u001b[0m\u001b[0;34m.\u001b[0m\u001b[0m_show_matplotlib_backend\u001b[0m\u001b[0;34m(\u001b[0m\u001b[0margs\u001b[0m\u001b[0;34m.\u001b[0m\u001b[0mgui\u001b[0m\u001b[0;34m,\u001b[0m \u001b[0mbackend\u001b[0m\u001b[0;34m)\u001b[0m\u001b[0;34m\u001b[0m\u001b[0;34m\u001b[0m\u001b[0m\n\u001b[1;32m    101\u001b[0m \u001b[0;34m\u001b[0m\u001b[0m\n",
      "\u001b[0;32m/opt/anaconda3/lib/python3.9/site-packages/IPython/core/interactiveshell.py\u001b[0m in \u001b[0;36menable_matplotlib\u001b[0;34m(self, gui)\u001b[0m\n\u001b[1;32m   3626\u001b[0m         \"\"\"\n\u001b[1;32m   3627\u001b[0m         \u001b[0;32mfrom\u001b[0m \u001b[0mIPython\u001b[0m\u001b[0;34m.\u001b[0m\u001b[0mcore\u001b[0m \u001b[0;32mimport\u001b[0m \u001b[0mpylabtools\u001b[0m \u001b[0;32mas\u001b[0m \u001b[0mpt\u001b[0m\u001b[0;34m\u001b[0m\u001b[0;34m\u001b[0m\u001b[0m\n\u001b[0;32m-> 3628\u001b[0;31m         \u001b[0;32mfrom\u001b[0m \u001b[0mmatplotlib_inline\u001b[0m\u001b[0;34m.\u001b[0m\u001b[0mbackend_inline\u001b[0m \u001b[0;32mimport\u001b[0m \u001b[0mconfigure_inline_support\u001b[0m\u001b[0;34m\u001b[0m\u001b[0;34m\u001b[0m\u001b[0m\n\u001b[0m\u001b[1;32m   3629\u001b[0m         \u001b[0mgui\u001b[0m\u001b[0;34m,\u001b[0m \u001b[0mbackend\u001b[0m \u001b[0;34m=\u001b[0m \u001b[0mpt\u001b[0m\u001b[0;34m.\u001b[0m\u001b[0mfind_gui_and_backend\u001b[0m\u001b[0;34m(\u001b[0m\u001b[0mgui\u001b[0m\u001b[0;34m,\u001b[0m \u001b[0mself\u001b[0m\u001b[0;34m.\u001b[0m\u001b[0mpylab_gui_select\u001b[0m\u001b[0;34m)\u001b[0m\u001b[0;34m\u001b[0m\u001b[0;34m\u001b[0m\u001b[0m\n\u001b[1;32m   3630\u001b[0m \u001b[0;34m\u001b[0m\u001b[0m\n",
      "\u001b[0;32m/opt/anaconda3/lib/python3.9/site-packages/matplotlib_inline/backend_inline.py\u001b[0m in \u001b[0;36m<module>\u001b[0;34m\u001b[0m\n\u001b[1;32m      4\u001b[0m \u001b[0;31m# Distributed under the terms of the BSD 3-Clause License.\u001b[0m\u001b[0;34m\u001b[0m\u001b[0;34m\u001b[0m\u001b[0m\n\u001b[1;32m      5\u001b[0m \u001b[0;34m\u001b[0m\u001b[0m\n\u001b[0;32m----> 6\u001b[0;31m \u001b[0;32mimport\u001b[0m \u001b[0mmatplotlib\u001b[0m\u001b[0;34m\u001b[0m\u001b[0;34m\u001b[0m\u001b[0m\n\u001b[0m\u001b[1;32m      7\u001b[0m from matplotlib.backends.backend_agg import (  # noqa\n\u001b[1;32m      8\u001b[0m     \u001b[0mnew_figure_manager\u001b[0m\u001b[0;34m,\u001b[0m\u001b[0;34m\u001b[0m\u001b[0;34m\u001b[0m\u001b[0m\n",
      "\u001b[0;32m/opt/anaconda3/lib/python3.9/site-packages/matplotlib/__init__.py\u001b[0m in \u001b[0;36m<module>\u001b[0;34m\u001b[0m\n\u001b[1;32m    107\u001b[0m \u001b[0;31m# cbook must import matplotlib only within function\u001b[0m\u001b[0;34m\u001b[0m\u001b[0;34m\u001b[0m\u001b[0m\n\u001b[1;32m    108\u001b[0m \u001b[0;31m# definitions, so it is safe to import from it here.\u001b[0m\u001b[0;34m\u001b[0m\u001b[0;34m\u001b[0m\u001b[0m\n\u001b[0;32m--> 109\u001b[0;31m \u001b[0;32mfrom\u001b[0m \u001b[0;34m.\u001b[0m \u001b[0;32mimport\u001b[0m \u001b[0m_api\u001b[0m\u001b[0;34m,\u001b[0m \u001b[0m_version\u001b[0m\u001b[0;34m,\u001b[0m \u001b[0mcbook\u001b[0m\u001b[0;34m,\u001b[0m \u001b[0mdocstring\u001b[0m\u001b[0;34m,\u001b[0m \u001b[0mrcsetup\u001b[0m\u001b[0;34m\u001b[0m\u001b[0;34m\u001b[0m\u001b[0m\n\u001b[0m\u001b[1;32m    110\u001b[0m \u001b[0;32mfrom\u001b[0m \u001b[0mmatplotlib\u001b[0m\u001b[0;34m.\u001b[0m\u001b[0mcbook\u001b[0m \u001b[0;32mimport\u001b[0m \u001b[0mMatplotlibDeprecationWarning\u001b[0m\u001b[0;34m,\u001b[0m \u001b[0msanitize_sequence\u001b[0m\u001b[0;34m\u001b[0m\u001b[0;34m\u001b[0m\u001b[0m\n\u001b[1;32m    111\u001b[0m \u001b[0;32mfrom\u001b[0m \u001b[0mmatplotlib\u001b[0m\u001b[0;34m.\u001b[0m\u001b[0mcbook\u001b[0m \u001b[0;32mimport\u001b[0m \u001b[0mmplDeprecation\u001b[0m  \u001b[0;31m# deprecated\u001b[0m\u001b[0;34m\u001b[0m\u001b[0;34m\u001b[0m\u001b[0m\n",
      "\u001b[0;32m/opt/anaconda3/lib/python3.9/site-packages/matplotlib/rcsetup.py\u001b[0m in \u001b[0;36m<module>\u001b[0;34m\u001b[0m\n\u001b[1;32m     25\u001b[0m \u001b[0;32mfrom\u001b[0m \u001b[0mmatplotlib\u001b[0m \u001b[0;32mimport\u001b[0m \u001b[0m_api\u001b[0m\u001b[0;34m,\u001b[0m \u001b[0mcbook\u001b[0m\u001b[0;34m\u001b[0m\u001b[0;34m\u001b[0m\u001b[0m\n\u001b[1;32m     26\u001b[0m \u001b[0;32mfrom\u001b[0m \u001b[0mmatplotlib\u001b[0m\u001b[0;34m.\u001b[0m\u001b[0mcbook\u001b[0m \u001b[0;32mimport\u001b[0m \u001b[0mls_mapper\u001b[0m\u001b[0;34m\u001b[0m\u001b[0;34m\u001b[0m\u001b[0m\n\u001b[0;32m---> 27\u001b[0;31m \u001b[0;32mfrom\u001b[0m \u001b[0mmatplotlib\u001b[0m\u001b[0;34m.\u001b[0m\u001b[0mcolors\u001b[0m \u001b[0;32mimport\u001b[0m \u001b[0mColormap\u001b[0m\u001b[0;34m,\u001b[0m \u001b[0mis_color_like\u001b[0m\u001b[0;34m\u001b[0m\u001b[0;34m\u001b[0m\u001b[0m\n\u001b[0m\u001b[1;32m     28\u001b[0m \u001b[0;32mfrom\u001b[0m \u001b[0mmatplotlib\u001b[0m\u001b[0;34m.\u001b[0m\u001b[0mfontconfig_pattern\u001b[0m \u001b[0;32mimport\u001b[0m \u001b[0mparse_fontconfig_pattern\u001b[0m\u001b[0;34m\u001b[0m\u001b[0;34m\u001b[0m\u001b[0m\n\u001b[1;32m     29\u001b[0m \u001b[0;32mfrom\u001b[0m \u001b[0mmatplotlib\u001b[0m\u001b[0;34m.\u001b[0m\u001b[0m_enums\u001b[0m \u001b[0;32mimport\u001b[0m \u001b[0mJoinStyle\u001b[0m\u001b[0;34m,\u001b[0m \u001b[0mCapStyle\u001b[0m\u001b[0;34m\u001b[0m\u001b[0;34m\u001b[0m\u001b[0m\n",
      "\u001b[0;32m/opt/anaconda3/lib/python3.9/site-packages/matplotlib/colors.py\u001b[0m in \u001b[0;36m<module>\u001b[0;34m\u001b[0m\n\u001b[1;32m     49\u001b[0m \u001b[0;32mfrom\u001b[0m \u001b[0mnumbers\u001b[0m \u001b[0;32mimport\u001b[0m \u001b[0mNumber\u001b[0m\u001b[0;34m\u001b[0m\u001b[0;34m\u001b[0m\u001b[0m\n\u001b[1;32m     50\u001b[0m \u001b[0;32mimport\u001b[0m \u001b[0mre\u001b[0m\u001b[0;34m\u001b[0m\u001b[0;34m\u001b[0m\u001b[0m\n\u001b[0;32m---> 51\u001b[0;31m \u001b[0;32mfrom\u001b[0m \u001b[0mPIL\u001b[0m \u001b[0;32mimport\u001b[0m \u001b[0mImage\u001b[0m\u001b[0;34m\u001b[0m\u001b[0;34m\u001b[0m\u001b[0m\n\u001b[0m\u001b[1;32m     52\u001b[0m \u001b[0;32mfrom\u001b[0m \u001b[0mPIL\u001b[0m\u001b[0;34m.\u001b[0m\u001b[0mPngImagePlugin\u001b[0m \u001b[0;32mimport\u001b[0m \u001b[0mPngInfo\u001b[0m\u001b[0;34m\u001b[0m\u001b[0;34m\u001b[0m\u001b[0m\n\u001b[1;32m     53\u001b[0m \u001b[0;34m\u001b[0m\u001b[0m\n",
      "\u001b[0;32m/opt/anaconda3/lib/python3.9/site-packages/PIL/Image.py\u001b[0m in \u001b[0;36m<module>\u001b[0;34m\u001b[0m\n\u001b[1;32m     82\u001b[0m     \u001b[0;31m# Also note that Image.core is not a publicly documented interface,\u001b[0m\u001b[0;34m\u001b[0m\u001b[0;34m\u001b[0m\u001b[0m\n\u001b[1;32m     83\u001b[0m     \u001b[0;31m# and should be considered private and subject to change.\u001b[0m\u001b[0;34m\u001b[0m\u001b[0;34m\u001b[0m\u001b[0m\n\u001b[0;32m---> 84\u001b[0;31m     \u001b[0;32mfrom\u001b[0m \u001b[0;34m.\u001b[0m \u001b[0;32mimport\u001b[0m \u001b[0m_imaging\u001b[0m \u001b[0;32mas\u001b[0m \u001b[0mcore\u001b[0m\u001b[0;34m\u001b[0m\u001b[0;34m\u001b[0m\u001b[0m\n\u001b[0m\u001b[1;32m     85\u001b[0m \u001b[0;34m\u001b[0m\u001b[0m\n\u001b[1;32m     86\u001b[0m     \u001b[0;32mif\u001b[0m \u001b[0m__version__\u001b[0m \u001b[0;34m!=\u001b[0m \u001b[0mgetattr\u001b[0m\u001b[0;34m(\u001b[0m\u001b[0mcore\u001b[0m\u001b[0;34m,\u001b[0m \u001b[0;34m\"PILLOW_VERSION\"\u001b[0m\u001b[0;34m,\u001b[0m \u001b[0;32mNone\u001b[0m\u001b[0;34m)\u001b[0m\u001b[0;34m:\u001b[0m\u001b[0;34m\u001b[0m\u001b[0;34m\u001b[0m\u001b[0m\n",
      "\u001b[0;31mImportError\u001b[0m: dlopen(/opt/anaconda3/lib/python3.9/site-packages/PIL/_imaging.cpython-39-darwin.so, 0x0002): Library not loaded: @rpath/libtiff.5.dylib\n  Referenced from: <1CCD72A1-A76E-3026-9956-EA6FA41A1C72> /opt/anaconda3/lib/python3.9/site-packages/PIL/_imaging.cpython-39-darwin.so\n  Reason: tried: '/opt/anaconda3/lib/python3.9/site-packages/PIL/../../../libtiff.5.dylib' (no such file), '/opt/anaconda3/lib/python3.9/site-packages/PIL/../../../libtiff.5.dylib' (no such file), '/opt/anaconda3/bin/../lib/libtiff.5.dylib' (no such file), '/opt/anaconda3/bin/../lib/libtiff.5.dylib' (no such file), '/usr/local/lib/libtiff.5.dylib' (no such file), '/usr/lib/libtiff.5.dylib' (no such file, not in dyld cache)"
     ]
    }
   ],
   "source": [
    "%matplotlib inline\n",
    "\n",
    "import datacube\n",
    "import matplotlib.pyplot as plt\n",
    "import numpy as np\n",
    "import matplotlib as mpl\n",
    "import pandas as pd\n",
    "import xarray as xr\n",
    "import odc.geo.xr\n",
    "#import rasterio\n",
    "import geopandas as gpd # Added from WDC\n",
    "\n",
    "from odc.algo import xr_reproject # From https://docs.dea.ga.gov.au/notebooks/How_to_guides/Reprojecting_data.html\n",
    "\n",
    "import sys, os\n",
    "sys.path.insert(1, os.path.abspath('../Tools'))\n",
    "from dea_tools.plotting import rgb, display_map\n",
    "from dea_tools.datahandling import wofs_fuser  # Added from DEA plotting\n",
    "from dea_tools.plotting import rgb, plot_wo  # Added from DEA plotting\n",
    "from matplotlib import colors as mcolours\n",
    "from dea_tools.landcover import plot_land_cover, lc_colourmap, make_colorbar\n",
    "from datacube.testutils.io import rio_slurp_xarray\n",
    "from datacube.utils import masking # Added from DEA plotting\n",
    "from datacube.utils.masking import mask_invalid_data\n",
    "#from datacube.utils import cog  # Temporarily disabled\n",
    "from datacube.utils.cog import write_cog\n",
    "# from display_tools import map_geom, rgb # from WDC - not accessing\n",
    "from ipyleaflet import GeoData # Added from WDC \n",
    "from time import time as time # Added from burn notebook\n",
    "import datetime as dt # Added from burn notebook\n",
    "from odc.geo.geom import Geometry\n",
    "from dea_tools.plotting import rgb\n",
    "\n",
    "from matplotlib.colors import ListedColormap # Added from WDC\n",
    "import matplotlib.colors as colors # Added from WDC\n",
    "from matplotlib import colormaps\n",
    "import matplotlib.pyplot as plt # Added from WDC\n",
    "from matplotlib.patches import Patch # Added from WDC\n",
    "\n",
    "import warnings # Added from WDC\n",
    "warnings.filterwarnings(\"ignore\") # Added from WDC\n",
    "\n",
    "sys.path.append(\"../Living_Coasts_training\")\n",
    "from landcover import plot_land_cover, lc_colourmap, make_colorbar #added from DEA\n",
    "\n",
    "#For DEA burn mapping\n",
    "from datetime import datetime\n",
    "from datetime import timedelta\n",
    "\n",
    "from dea_tools.datahandling import load_ard\n",
    "from dea_tools.plotting import rgb, display_map\n",
    "from dea_tools.bandindices import calculate_indices\n",
    "from dea_tools.dask import create_local_dask_cluster\n",
    "import display_tools as display_tools\n",
    "\n",
    "# Create local dask cluster to improve data load time\n",
    "client = create_local_dask_cluster(return_client=True)\n",
    "\n",
    "from ipyleaflet import DrawControl, FullScreenControl, LayersControl, Map, Rectangle, WidgetControl, basemaps # Added rectangle RML\n",
    "from ipywidgets import Button, Dropdown, FloatText, GridspecLayout, Layout, HBox, VBox, Output, Tab, interact, widgets"
   ]
  },
  {
   "cell_type": "markdown",
   "id": "2f8dfa5f-85d8-4f91-93bc-f7b2c0520e3d",
   "metadata": {},
   "source": [
    "### Load packages\n",
    "\n",
    "Load key Python packages and supporting functions for the analysis, then connect to the datacube. "
   ]
  },
  {
   "cell_type": "markdown",
   "id": "bc3fd3a8-d54e-4b09-ad65-4d703ad1f3a8",
   "metadata": {},
   "source": [
    "### Connect to the datacube\n",
    "Connect to the datacube so we can access DEA data. "
   ]
  },
  {
   "cell_type": "code",
   "execution_count": null,
   "id": "76f9806d-cce9-44a0-a6e2-c1b0698a411c",
   "metadata": {},
   "outputs": [],
   "source": [
    "dc = datacube.Datacube(app=\"Land_cover_change_mapping\")"
   ]
  },
  {
   "cell_type": "markdown",
   "id": "b326f586-afc8-4927-b2fc-9affe30f24b5",
   "metadata": {},
   "source": [
    "## Select and view your study area\n",
    "\n",
    "**If running the notebook for the first time,** keep the default settings below.\n",
    "This will demonstrate how the change mapping functionality works and provide meaningful results.\n",
    "The following example loads land cover data over Mount Ney in Western Australia, a region which has experienced extensive bushfires and variations in water inundation over the 34 years of observation.  \n",
    "\n",
    "**NOTE:  You can change the area of interest and also the time range in subsequent user-selected runs of the notebook."
   ]
  },
  {
   "cell_type": "code",
   "execution_count": null,
   "id": "141c4a52-0c92-4e57-b779-26e61cda6779",
   "metadata": {
    "tags": []
   },
   "outputs": [],
   "source": [
    "# Additional libraries etc.\n",
    "\n",
    "from datacube.utils.geometry import Geometry, CRS\n",
    "from ipyleaflet import GeoData\n",
    "from display_tools import map_geom, rgb\n",
    "\n",
    "sys.path.append(\"../Tools/wdc_tools\")\n",
    "from wdc_datahandling import geopolygon_masking"
   ]
  },
  {
   "cell_type": "code",
   "execution_count": null,
   "id": "9339408d-f071-456a-bfd3-5edbbb3c36a4",
   "metadata": {
    "tags": []
   },
   "outputs": [],
   "source": [
    "# add in vector data for area of interest\n",
    "Area = 'uploads/Fitzroy-riverbend.geojson' \n",
    "#Area = 'uploads/AOIs/Fitzroy-mangroves.geojson'\n",
    "#Area = 'uploads/AOIs/StirlingRanges.geojson'\n",
    "#Area = 'uploads/AOIs/Stradbroke-Island-north.json'\n",
    "Area = gpd.read_file(Area)"
   ]
  },
  {
   "cell_type": "code",
   "execution_count": null,
   "id": "c1278da8-dd8f-46b1-b035-84058dd7ceea",
   "metadata": {
    "tags": []
   },
   "outputs": [],
   "source": [
    "display_map(x=(Area.total_bounds[0], Area.total_bounds[2]), y=(Area.total_bounds[1], Area.total_bounds[3]))"
   ]
  },
  {
   "cell_type": "code",
   "execution_count": null,
   "id": "0a2d162b-64c5-4123-81e7-af1a9e721885",
   "metadata": {
    "tags": []
   },
   "outputs": [],
   "source": [
    "# Set the range of dates for the analysis\n",
    "time_range = (\"1988\", \"2011\")\n",
    "\n",
    "# Loop through polygons in geodataframe and extract satellite data\n",
    "for index, row in Area.iterrows(): \n",
    "    # Extract the feature's geometry as a datacube geometry object (this needs to be updated eventually for Shapely 2.0)\n",
    "    geom = Geometry(geom=row.geometry, crs=Area.crs)\n",
    "#    geom = Geometry(geom=Area.iloc[0].geometry, \n",
    "#                         crs=CRS(\"epsg:32755\"))    \n",
    "    # Update the query to include our geopolygon\n",
    "    query = {'geopolygon': geom,\n",
    "    \"time\": time_range,             \n",
    "        }"
   ]
  },
  {
   "cell_type": "code",
   "execution_count": null,
   "id": "819e1369-ba4e-474e-a3ca-bc41bab53c2d",
   "metadata": {
    "tags": []
   },
   "outputs": [],
   "source": [
    "# Get colour map for image\n",
    "cmap, norm = lc_colourmap('level3_change_colour_scheme')"
   ]
  },
  {
   "cell_type": "markdown",
   "id": "8127a423-4402-413f-a0cf-935f2e67b960",
   "metadata": {},
   "source": [
    "# Define dates and/or period of interest\n"
   ]
  },
  {
   "cell_type": "markdown",
   "id": "9e575857-7d37-4097-b655-9733db10e66b",
   "metadata": {
    "tags": []
   },
   "source": [
    "#### Load and reproject CCI Biomass data"
   ]
  },
  {
   "cell_type": "markdown",
   "id": "e27a8437-4c4c-4e81-a070-41dd945baedc",
   "metadata": {
    "tags": []
   },
   "source": [
    "## 3.1  Observed change\n",
    "The observed change considers conversions (i.e., changes in extent of the Level 3 classes) and modification (i.e., the level 3 class remains the same but there are changes in categorical (e.g., lifeform) or continuous (e.g., water hydroperiod) environmental descriptors.  "
   ]
  },
  {
   "cell_type": "markdown",
   "id": "4d0be655-8dd1-4d45-ba40-63a31f77b07c",
   "metadata": {},
   "source": [
    "### Plot broad land cover types over the time-series"
   ]
  },
  {
   "cell_type": "markdown",
   "id": "e0ba6d19-6242-42f1-90ca-2c6c2d7159b8",
   "metadata": {},
   "source": [
    "## Load and view the FAO LCCS Level 3 data\n",
    "The following cell will load what are termed the Environmental Descriptors (EDs) used to construct the Basic (Level 3) and subsequently the Detailed (Level 4) land cover maps for the `lat_range`, `lon_range` and `time_range` defined for your area of interest."
   ]
  },
  {
   "cell_type": "markdown",
   "id": "c50b514c-6a4e-4ee2-8342-0c86faf75078",
   "metadata": {
    "tags": []
   },
   "source": [
    "You can view each of these layers using the  `plot_land_cover()` function.\n",
    "\n",
    "** Note:  You can run one, several or all of these to view the appropriate product."
   ]
  },
  {
   "cell_type": "code",
   "execution_count": null,
   "id": "a6bf8a80-dbf0-4073-8e7b-7a821014019d",
   "metadata": {
    "tags": []
   },
   "outputs": [],
   "source": [
    "# Load land cover data for our polygon and time period\n",
    "#lc_dataset = dc.load(product='lw_landcover_lw', **query)\n",
    "#lc_dataset_masked = geopolygon_masking(lc_dataset, geopolygon=geom)\n",
    "\n",
    "# Step 3: Load DEA Land Cover data from the datacube\n",
    "try:\n",
    "    lc = dc.load(\n",
    "        product=\"ga_ls_landcover_class_cyear_2\",\n",
    "        output_crs=\"EPSG:32755\",\n",
    "        measurements=[\n",
    "            \"level3\",\n",
    "        ],\n",
    "        resolution=(-25, 25),\n",
    "        **query\n",
    "    )\n",
    "    print(\"Data loaded successfully.\")\n",
    "except Exception as e:\n",
    "    raise RuntimeError(f\"Error loading data from the datacube: {e}\")\n",
    "    \n",
    "lc_dataset_masked = geopolygon_masking(lc, geopolygon=geom)"
   ]
  },
  {
   "cell_type": "code",
   "execution_count": null,
   "id": "c757671e-602e-4ccb-84f0-45ae28201d2b",
   "metadata": {
    "tags": []
   },
   "outputs": [],
   "source": [
    "# Section 6: Checkbox widgets for selecting datasets\n",
    "level3_checkbox = widgets.Checkbox(description='Level 3', value=False)\n",
    "\n",
    "output = widgets.Output()\n",
    "\n",
    "def plot_selected_datasets():\n",
    "    with output:\n",
    "        output.clear_output()\n",
    "        selected_datasets = []\n",
    "        if level3_checkbox.value:\n",
    "            selected_datasets.append('level3')\n",
    "\n",
    "        for dataset in selected_datasets:\n",
    "            plt.figure()\n",
    "            if dataset == 'level3':\n",
    "                plot_land_cover(lc.level3)\n",
    "            plt.show()\n",
    "\n",
    "plot_datasets_button = widgets.Button(description='Plot Selected Data')\n",
    "plot_datasets_button.on_click(lambda b: plot_selected_datasets())\n",
    "\n",
    "checkboxes_box = widgets.HBox([\n",
    "    level3_checkbox\n",
    "])\n",
    "display(checkboxes_box)\n",
    "display(plot_datasets_button)\n",
    "display(output)"
   ]
  },
  {
   "cell_type": "markdown",
   "id": "1ce96505-986d-4712-9bd9-98f16e0ec694",
   "metadata": {},
   "source": [
    "### Level 3 change maps \n",
    "\n",
    "A first step towards developing a globally relevant and standardized taxonomy and framework for consistently describing land cover change was to establish the transition matrix between observed broad land cover classes (i.e., OEDs).  This stage was developed and is illustrated using the FAO LCCS given the dichotomous and then hierarchical modular structure of this taxonomy.  Between-class transitions and within-class changes can be identified by comparing these OEDs (i.e., the FAO LCCS Level 3 classes; 8 in total) between any two time-separated periods (i.e., T1 and T2), leading to 64 potential change categories; 56 on the off-diagonals and 8 on the on-diagonals.  \n",
    "\n",
    "** Note:  There are 6 classes in the case of Australia as there are limited cultivated aquatic landscapes, and artificial and natural water are merged.\n",
    "\n",
    "In the following steps, you will compare the earliest and latest Level 3 layers in selected time-series."
   ]
  },
  {
   "cell_type": "markdown",
   "id": "1f26e16d-fb01-45d6-b6e2-2bf9ad302a5d",
   "metadata": {},
   "source": [
    "#### Select the start and end dates for comparisons of enviromental descriptors \n",
    "(e.g., Level 3, lifeform, vegetation cover, water state and level 4 (full classification))"
   ]
  },
  {
   "cell_type": "markdown",
   "id": "a9db6fba-a212-47f7-b87a-8041df8af823",
   "metadata": {},
   "source": [
    "#### ALL LEVEL 3 CHANGES"
   ]
  },
  {
   "cell_type": "markdown",
   "id": "7ead9081-ee8f-4b28-93b9-5b2f66c4731d",
   "metadata": {},
   "source": [
    "### GAINS"
   ]
  },
  {
   "cell_type": "markdown",
   "id": "f2788769-7e77-4474-9afe-d78e53c734af",
   "metadata": {},
   "source": [
    "#### Change (gains) in Level 3 from 2010 [0] to 2020 [4 or -1]"
   ]
  },
  {
   "cell_type": "code",
   "execution_count": null,
   "id": "4d899712-d7eb-4fdc-9118-8699870e1a5e",
   "metadata": {
    "tags": []
   },
   "outputs": [],
   "source": [
    "# Select start and end dates for comparison (change to int32 to ensure we can hold number of 6 digits)\n",
    "start = lc.level3[0].astype(np.int32)\n",
    "end = lc.level3[-1].astype(np.int32)\n",
    "ignore_no_change = True\n",
    "change_vals = (start * 1000) + end\n",
    "if ignore_no_change:\n",
    "    change_vals = np.where(start == end, 0, change_vals)"
   ]
  },
  {
   "cell_type": "code",
   "execution_count": null,
   "id": "c3688e41-0bff-482b-b792-71e6a52d7b2d",
   "metadata": {
    "tags": []
   },
   "outputs": [],
   "source": [
    "level_3 = lc.level3[0].drop_vars(\"time\")"
   ]
  },
  {
   "cell_type": "code",
   "execution_count": null,
   "id": "ae70ea71-d240-4ecc-ab11-eafb4298045d",
   "metadata": {
    "tags": []
   },
   "outputs": [],
   "source": [
    "# Create a new Xarray.DataArray\n",
    "obs_gain_l3_2010_2020 = xr.DataArray(\n",
    "    data=change_vals,\n",
    "    coords=level_3.coords,\n",
    "    dims=level_3.dims,\n",
    "    name=\"observed change\",\n",
    "    attrs=level_3.attrs,\n",
    "    fastpath=False,\n",
    ")"
   ]
  },
  {
   "cell_type": "code",
   "execution_count": null,
   "id": "8702c457-b2fd-4a82-8f57-b74dab704492",
   "metadata": {
    "tags": []
   },
   "outputs": [],
   "source": [
    "obs_gain_l3 = obs_gain_l3_2010_2020.to_dataset(name=\"l3_2010_2020\")\n",
    "del obs_gain_l3_2010_2020"
   ]
  },
  {
   "cell_type": "markdown",
   "id": "def9e67d-f29b-47a4-a9ca-1326271da26c",
   "metadata": {},
   "source": [
    "### Plot Level 3 gains"
   ]
  },
  {
   "cell_type": "code",
   "execution_count": null,
   "id": "55b0f0cd-3d26-459b-bc14-a56b42d7b27d",
   "metadata": {
    "tags": []
   },
   "outputs": [],
   "source": [
    "# Get colour map for image\n",
    "#cmap, norm = lc_colourmap('level3_change_colour_scheme')\n",
    "cmap, norm = lc_colourmap('level3_change_colour_gain')"
   ]
  },
  {
   "cell_type": "code",
   "execution_count": null,
   "id": "639ac449-024b-4855-8112-66e5024a2e8c",
   "metadata": {
    "tags": []
   },
   "outputs": [],
   "source": [
    "import matplotlib.pyplot as plt\n",
    "import xarray as xr\n",
    "import geopandas as gpd\n",
    "\n",
    "# Sample code for plotting\n",
    "fig, ax = plt.subplots(figsize=(12, 8))\n",
    "\n",
    "# Plot the xarray data without the colorbar\n",
    "c = obs_gain_l3.l3_2010_2020.plot(ax=ax, cmap=cmap, norm=norm, add_colorbar=False)\n",
    "\n",
    "# Pretty plot options\n",
    "ax.margins(0.05)\n",
    "ax.set_aspect('equal', adjustable='datalim')\n",
    "ax.set_xlabel('Longitude', fontsize=12)  # Set x-axis label\n",
    "ax.set_ylabel('Latitude', fontsize=12)  # Set y-axis label\n",
    "ax.set_title('Level 3 Gains: 2010 to 2020', fontsize=16)\n",
    "\n",
    "# Create a custom legend\n",
    "legend_colors = {\n",
    "    \"#FFFFFF\": [0.0, \"Not classified\"],\n",
    "    \"#D1E133\": [111.0, \"Cultivated or managed terrestrial vegetation\"],\n",
    "    \"#007A02\": [113.0, \"Semi-natural terrestrial woody vegetation\"],\n",
    "    \"#95c748\": [114.0, \"Semi-natural terrestrial herbaceous vegetation\"],\n",
    "    \"#4EEEE8\": [123.0, \"Cultivated or managed aquatic vegetation\"],\n",
    "    \"#02C077\": [124.0, \"Semi-natural aquatic vegetation\"],\n",
    "    \"#DA5C69\": [215.0, \"Artificial surface\"],\n",
    "    \"#F3AB69\": [216.0, \"Bare surface\"],\n",
    "    \"#4D9FDC\": [220.0, \"Water\"],\n",
    "}\n",
    "\n",
    "legend_labels = [\n",
    "    \"Not classified\",\n",
    "    \"Cultivated or managed terrestrial vegetation\",\n",
    "    \"Semi-natural terrestrial woody vegetation\",\n",
    "    \"Semi-natural terrestrial herbaceous vegetation\",\n",
    "    \"Cultivated or managed aquatic vegetation\",\n",
    "    \"Semi-natural aquatic vegetation\",\n",
    "    \"Artificial surface\",\n",
    "    \"Bare surface\",\n",
    "    \"Water\",\n",
    "    \n",
    "]\n",
    "\n",
    "# Create custom legend\n",
    "handles = [plt.Line2D([0], [0], marker='o', color='w', label=label, \n",
    "                       markerfacecolor=color, markersize=10,\n",
    "                     markeredgewidth=0.8, markeredgecolor='black') for label, color in zip(legend_labels, legend_colors)]\n",
    "\n",
    "#ax.legend(handles=handles, loc='lower right', fontsize=10, title='', title_fontsize='13', frameon=True)\n",
    "ax.legend(handles=handles, loc='center left', bbox_to_anchor=(1, 0.5), fontsize=10, title='', title_fontsize='13', frameon=True)\n",
    "\n",
    "plt.tight_layout()\n",
    "plt.show()\n",
    "\n",
    "#obs_gain_l3.l3_2010_2020.plot(cmap=cmap, norm=norm)"
   ]
  },
  {
   "cell_type": "code",
   "execution_count": null,
   "id": "c5f85c18-936f-44d0-a58f-b2ad73983c6e",
   "metadata": {
    "tags": []
   },
   "outputs": [],
   "source": [
    "#This method uses the datacube.utils.cog function write_cog (where COG stands for Cloud Optimised GeoTIFF) \n",
    "#to export a simple single-band, single time-slice GeoTIFF file. A few important caveats should be noted when using this function:\n",
    "#It requires an xarray.DataArray; supplying an xarray.Dataset will return an error. \n",
    "\n",
    "# Write GeoTIFF to a location\n",
    "write_cog(geo_im=obs_gain_l3[\"l3_2010_2020\"],\n",
    "          fname='outputs/obs_gain_l3_2010_2020.tif',\n",
    "          overwrite=True)"
   ]
  },
  {
   "cell_type": "markdown",
   "id": "ccc6c703-8657-48d4-baab-11348a0b38cb",
   "metadata": {},
   "source": [
    "### LOSSES"
   ]
  },
  {
   "cell_type": "markdown",
   "id": "28f5da01-62db-4c3e-af1c-5017e09d8860",
   "metadata": {},
   "source": [
    "#### Identify change (loss) in Level 3 from 2010 [0] to 2020 [-1 or 4]"
   ]
  },
  {
   "cell_type": "code",
   "execution_count": null,
   "id": "2fb4d14f-02d6-4d33-8c9e-2b04251a9f39",
   "metadata": {
    "tags": []
   },
   "outputs": [],
   "source": [
    "# Select start and end dates for comparison (change to int32 to ensure we can hold number of 6 digits)\n",
    "# (Note changing to (end * 1000) + start\n",
    "start = lc.level3[0].astype(np.int32)\n",
    "end = lc.level3[-1].astype(np.int32)\n",
    "ignore_no_change = True\n",
    "change_vals = (end * 1000) + start\n",
    "if ignore_no_change:\n",
    "    change_vals = np.where(start == end, 0, change_vals)\n",
    "#level_3 = lc.level3[0].drop_vars(\"time\")"
   ]
  },
  {
   "cell_type": "code",
   "execution_count": null,
   "id": "ad9a6cab-466a-4941-8869-6b114a5631fe",
   "metadata": {
    "tags": []
   },
   "outputs": [],
   "source": [
    "# Create a new Xarray.DataArray\n",
    "obs_loss_l3_2010_2020= xr.DataArray(\n",
    "    data=change_vals,\n",
    "    coords=level_3.coords,\n",
    "    dims=level_3.dims,\n",
    "    name=\"observed losses\",\n",
    "    attrs=level_3.attrs,\n",
    "    fastpath=False,\n",
    ")"
   ]
  },
  {
   "cell_type": "code",
   "execution_count": null,
   "id": "2b4d66c4-0da2-490e-ac2b-be2b00699277",
   "metadata": {
    "tags": []
   },
   "outputs": [],
   "source": [
    "obs_loss_l3 = obs_loss_l3_2010_2020.to_dataset(name=\"l3_2010_2020\")\n",
    "del obs_loss_l3_2010_2020"
   ]
  },
  {
   "cell_type": "markdown",
   "id": "4ea5be70-e1a1-416d-9237-2cf4cef35fc3",
   "metadata": {},
   "source": [
    "#### Change from 2017 [1] to 2018 [2]"
   ]
  },
  {
   "cell_type": "markdown",
   "id": "6424812f-91a7-4110-9d5e-e3bdd97fb6a7",
   "metadata": {},
   "source": [
    "#### Plot Level 3 losses"
   ]
  },
  {
   "cell_type": "code",
   "execution_count": null,
   "id": "0a062e18-a2a4-4d78-ba40-aada64be3f41",
   "metadata": {
    "tags": []
   },
   "outputs": [],
   "source": [
    "# Get colour map for image\n",
    "#cmap, norm = lc_colourmap('level3_change_colour_scheme')\n",
    "cmap, norm = lc_colourmap('level3_change_colour_gain')"
   ]
  },
  {
   "cell_type": "code",
   "execution_count": null,
   "id": "e32e2344-18a3-4ab8-b3d5-95b88df818a9",
   "metadata": {},
   "outputs": [],
   "source": [
    "import matplotlib.pyplot as plt\n",
    "import xarray as xr\n",
    "import geopandas as gpd\n",
    "\n",
    "# Sample code for plotting\n",
    "fig, ax = plt.subplots(figsize=(12, 8))\n",
    "\n",
    "# Plot the xarray data without the colorbar\n",
    "c = obs_loss_l3.l3_2010_2020.plot(ax=ax, cmap=cmap, norm=norm, add_colorbar=False)\n",
    "\n",
    "# Pretty plot options\n",
    "ax.margins(0.05)\n",
    "ax.set_aspect('equal', adjustable='datalim')\n",
    "ax.set_xlabel('Longitude', fontsize=12)  # Set x-axis label\n",
    "ax.set_ylabel('Latitude', fontsize=12)  # Set y-axis label\n",
    "ax.set_title('Level 3 losses: 2010 to 2020', fontsize=16)\n",
    "\n",
    "# Create a custom legend\n",
    "legend_colors = {\n",
    "    \"#FFFFFF\": [0.0, \"Not classified\"],\n",
    "    \"#D1E133\": [111.0, \"Cultivated or managed terrestrial vegetation\"],\n",
    "    \"#007A02\": [113.0, \"Semi-natural terrestrial woody vegetation\"],\n",
    "    \"#95c748\": [114.0, \"Semi-natural terrestrial herbaceous vegetation\"],\n",
    "    \"#4EEEE8\": [123.0, \"Cultivated or managed aquatic vegetation\"],\n",
    "    \"#02C077\": [124.0, \"Semi-natural aquatic vegetation\"],\n",
    "    \"#DA5C69\": [215.0, \"Artificial surface\"],\n",
    "    \"#F3AB69\": [216.0, \"Bare surface\"],\n",
    "    \"#4D9FDC\": [220.0, \"Water\"],\n",
    "}\n",
    "\n",
    "legend_labels = [\n",
    "    \"Not classified\",\n",
    "    \"Cultivated or managed terrestrial vegetation\",\n",
    "    \"Semi-natural terrestrial woody vegetation\",\n",
    "    \"Semi-natural terrestrial herbaceous vegetation\",\n",
    "    \"Cultivated or managed aquatic vegetation\",\n",
    "    \"Semi-natural aquatic vegetation\",\n",
    "    \"Artificial surface\",\n",
    "    \"Bare surface\",\n",
    "    \"Water\",\n",
    "    \n",
    "]\n",
    "\n",
    "# Create custom legend\n",
    "handles = [plt.Line2D([0], [0], marker='o', color='w', label=label, \n",
    "                       markerfacecolor=color, markersize=10,\n",
    "                     markeredgewidth=0.8, markeredgecolor='black') for label, color in zip(legend_labels, legend_colors)]\n",
    "\n",
    "#ax.legend(handles=handles, loc='lower right', fontsize=10, title='', title_fontsize='13', frameon=True)\n",
    "ax.legend(handles=handles, loc='center left', bbox_to_anchor=(1, 0.5), fontsize=10, title='', title_fontsize='13', frameon=True)\n",
    "\n",
    "plt.tight_layout()\n",
    "plt.show()"
   ]
  },
  {
   "cell_type": "code",
   "execution_count": null,
   "id": "8a2fbd5c-d492-4e03-9b96-f7a97b5d9b10",
   "metadata": {
    "tags": []
   },
   "outputs": [],
   "source": [
    "#This method uses the datacube.utils.cog function write_cog (where COG stands for Cloud Optimised GeoTIFF) \n",
    "#to export a simple single-band, single time-slice GeoTIFF file. A few important caveats should be noted when using this function:\n",
    "#It requires an xarray.DataArray; supplying an xarray.Dataset will return an error. \n",
    "\n",
    "# Write GeoTIFF to a location\n",
    "write_cog(geo_im=obs_loss_l3[\"l3_2010_2020\"],\n",
    "          fname='outputs/obs_loss_l3_2010_2020.tif',\n",
    "          overwrite=True)"
   ]
  },
  {
   "cell_type": "markdown",
   "id": "b2f26b88-4a57-43c9-8911-8f28b48b4f74",
   "metadata": {},
   "source": [
    "### NO CHANGE"
   ]
  },
  {
   "cell_type": "markdown",
   "id": "41914f92-a06b-48c9-b92a-9cf4a7b45810",
   "metadata": {},
   "source": [
    "#### Areas of no change from 2010 [0] to 2020 [-1 or 4]"
   ]
  },
  {
   "cell_type": "code",
   "execution_count": null,
   "id": "ada50093-10b3-40b5-88da-3e37cbeeab75",
   "metadata": {
    "tags": []
   },
   "outputs": [],
   "source": [
    "# Select start and end dates for comparison (change to int32 to ensure we can hold number of 6 digits)\n",
    "start = lc.level3[0].astype(np.int32)\n",
    "end = lc.level3[-1].astype(np.int32)\n",
    "\n",
    "# Mark if you want to ignore no change\n",
    "ignore_no_change = False\n",
    "\n",
    "# Combine classifications from start and end dates\n",
    "change_vals = (start * 1000) + end\n",
    "\n",
    "# Mask out values with no change by setting to 0 if this is requested\n",
    "if ignore_no_change:\n",
    "    change_vals = np.where(start == end, 0, change_vals)\n",
    "    \n",
    "level_3 = lc.level3[0].drop_vars(\"time\") \n",
    "\n",
    "# Create a new Xarray.DataArray\n",
    "obs_change_l3_2010_2020 = xr.DataArray(\n",
    "    data=change_vals,\n",
    "    coords=level_3.coords,\n",
    "    dims=level_3.dims,\n",
    "    name=\"observed change\",\n",
    "    attrs=level_3.attrs,\n",
    "    fastpath=False,\n",
    ")"
   ]
  },
  {
   "cell_type": "code",
   "execution_count": null,
   "id": "4a0e170d-7a6d-4f9f-9bdd-2bd87e7ff9a4",
   "metadata": {
    "tags": []
   },
   "outputs": [],
   "source": [
    "obs_change_l3 = obs_change_l3_2010_2020.to_dataset(name=\"l3_2010_2020\")\n",
    "del obs_change_l3_2010_2020"
   ]
  },
  {
   "cell_type": "code",
   "execution_count": null,
   "id": "18a7b3b4-3ca7-4bf9-bf8d-567dc8ca4bf0",
   "metadata": {
    "tags": []
   },
   "outputs": [],
   "source": [
    "# Get colour map for image\n",
    "cmap, norm = lc_colourmap('level3_change_colour_scheme')"
   ]
  },
  {
   "cell_type": "code",
   "execution_count": null,
   "id": "dd26286c-eb57-4f21-8b81-0ebece9560ad",
   "metadata": {},
   "outputs": [],
   "source": [
    "import matplotlib.pyplot as plt\n",
    "import xarray as xr\n",
    "import geopandas as gpd\n",
    "\n",
    "# Sample code for plotting\n",
    "fig, ax = plt.subplots(figsize=(12, 8))\n",
    "\n",
    "# Plot the xarray data without the colorbar\n",
    "c = obs_change_l3.l3_2010_2020.plot(ax=ax, cmap=cmap, norm=norm, add_colorbar=False)\n",
    "\n",
    "# Pretty plot options\n",
    "ax.margins(0.05)\n",
    "ax.set_aspect('equal', adjustable='datalim')\n",
    "ax.set_xlabel('Longitude', fontsize=12)  # Set x-axis label\n",
    "ax.set_ylabel('Latitude', fontsize=12)  # Set y-axis label\n",
    "ax.set_title('Level 3 no changes: 2010 to 2020', fontsize=16)\n",
    "\n",
    "# Create a custom legend\n",
    "legend_colors = {\n",
    "    \"#FFFFFF\": [0.0, \"Not classified\"],\n",
    "    \"#D1E133\": [111.0, \"Cultivated or managed terrestrial vegetation\"],\n",
    "    \"#007A02\": [113.0, \"Semi-natural terrestrial woody vegetation\"],\n",
    "    \"#95c748\": [114.0, \"Semi-natural terrestrial herbaceous vegetation\"],\n",
    "    \"#4EEEE8\": [123.0, \"Cultivated or managed aquatic vegetation\"],\n",
    "    \"#02C077\": [124.0, \"Semi-natural aquatic vegetation\"],\n",
    "    \"#DA5C69\": [215.0, \"Artificial surface\"],\n",
    "    \"#F3AB69\": [216.0, \"Bare surface\"],\n",
    "    \"#4D9FDC\": [220.0, \"Water\"],\n",
    "}\n",
    "\n",
    "legend_labels = [\n",
    "    \"Not classified\",\n",
    "    \"Cultivated or managed terrestrial vegetation\",\n",
    "    \"Semi-natural terrestrial woody vegetation\",\n",
    "    \"Semi-natural terrestrial herbaceous vegetation\",\n",
    "    \"Cultivated or managed aquatic vegetation\",\n",
    "    \"Semi-natural aquatic vegetation\",\n",
    "    \"Artificial surface\",\n",
    "    \"Bare surface\",\n",
    "    \"Water\",\n",
    "    \n",
    "]\n",
    "\n",
    "# Create custom legend\n",
    "handles = [plt.Line2D([0], [0], marker='o', color='w', label=label, \n",
    "                       markerfacecolor=color, markersize=10,\n",
    "                     markeredgewidth=0.8, markeredgecolor='black') for label, color in zip(legend_labels, legend_colors)]\n",
    "\n",
    "#ax.legend(handles=handles, loc='lower right', fontsize=10, title='', title_fontsize='13', frameon=True)\n",
    "ax.legend(handles=handles, loc='center left', bbox_to_anchor=(1, 0.5), fontsize=10, title='', title_fontsize='13', frameon=True)\n",
    "\n",
    "plt.tight_layout()\n",
    "plt.show()"
   ]
  },
  {
   "cell_type": "markdown",
   "id": "e81aa62c-3b7c-4704-839e-15a44edaf13c",
   "metadata": {},
   "source": [
    "#### Export as a Geotif"
   ]
  },
  {
   "cell_type": "code",
   "execution_count": null,
   "id": "11c90333-4072-4ad1-8af2-4dca8ec98fad",
   "metadata": {
    "tags": []
   },
   "outputs": [],
   "source": [
    "#This method uses the datacube.utils.cog function write_cog (where COG stands for Cloud Optimised GeoTIFF) \n",
    "#to export a simple single-band, single time-slice GeoTIFF file. A few important caveats should be noted when using this function:\n",
    "#It requires an xarray.DataArray; supplying an xarray.Dataset will return an error. \n",
    "\n",
    "# Write GeoTIFF to a location\n",
    "write_cog(geo_im=obs_change_l3[\"l3_2010_2020\"],\n",
    "          fname='outputs/no_change_l3_2010_2020.tif',\n",
    "          overwrite=True)"
   ]
  },
  {
   "cell_type": "markdown",
   "id": "3aeefe93-bde9-4326-8511-20a8b5c6ea30",
   "metadata": {
    "tags": []
   },
   "source": [
    "***\n",
    "\n",
    "## Additional information\n",
    "\n",
    "**License:** The code in this notebook is licensed under the [Apache License, Version 2.0](https://www.apache.org/licenses/LICENSE-2.0). \n",
    "Digital Earth Australia data is licensed under the [Creative Commons by Attribution 4.0](https://creativecommons.org/licenses/by/4.0/) license.\n",
    "\n",
    "**Contact:** If you need assistance, please post a question on the [Open Data Cube Slack channel](http://slack.opendatacube.org/) or on the [GIS Stack Exchange](https://gis.stackexchange.com/questions/ask?tags=open-data-cube) using the `open-data-cube` tag (you can view previously asked questions [here](https://gis.stackexchange.com/questions/tagged/open-data-cube)).\n",
    "If you would like to report an issue with this notebook, you can file one on [Github](https://github.com/GeoscienceAustralia/dea-notebooks).\n",
    "\n",
    "**Last modified:** February 2022\n",
    "\n",
    "**Compatible datacube version:** "
   ]
  },
  {
   "cell_type": "markdown",
   "id": "e23ed132-2f33-4749-a1e6-7b32c9a55d4e",
   "metadata": {},
   "source": [
    "## Tags\n",
    "Browse all available tags on the DEA User Guide's [Tags Index](https://docs.dea.ga.gov.au/genindex.html)"
   ]
  },
  {
   "cell_type": "raw",
   "id": "8bf2e2ba-392e-432f-87a9-4476aaed4b52",
   "metadata": {},
   "source": [
    "**Tags**: :index:`sandbox compatible`, :index:`landsat 5`, :index:`landsat 7`, :index:`landsat 8`, \n",
    ":index:`DEA Land Cover`, :index:`time series`, :index: `LCCS`, :index:`colour maps`, :index:`data visualisation`"
   ]
  },
  {
   "cell_type": "code",
   "execution_count": null,
   "id": "4c60f8a3-6412-4d6c-b990-813f69a9e8ea",
   "metadata": {},
   "outputs": [],
   "source": []
  },
  {
   "cell_type": "code",
   "execution_count": null,
   "id": "6ecaaa51-2291-4dea-bf3e-dd999971604c",
   "metadata": {},
   "outputs": [],
   "source": []
  }
 ],
 "metadata": {
  "kernelspec": {
   "display_name": "Python 3 (ipykernel)",
   "language": "python",
   "name": "python3"
  },
  "language_info": {
   "codemirror_mode": {
    "name": "ipython",
    "version": 3
   },
   "file_extension": ".py",
   "mimetype": "text/x-python",
   "name": "python",
   "nbconvert_exporter": "python",
   "pygments_lexer": "ipython3",
   "version": "3.9.12"
  },
  "widgets": {
   "application/vnd.jupyter.widget-state+json": {
    "state": {},
    "version_major": 2,
    "version_minor": 0
   }
  }
 },
 "nbformat": 4,
 "nbformat_minor": 5
}
